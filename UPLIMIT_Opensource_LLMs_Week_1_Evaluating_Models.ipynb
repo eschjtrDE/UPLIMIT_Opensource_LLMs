{
 "cells": [
  {
   "cell_type": "markdown",
   "metadata": {
    "colab_type": "text",
    "id": "view-in-github"
   },
   "source": [
    "<a href=\"https://colab.research.google.com/github/eschjtrDE/ExData_Plotting1/blob/master/UPLIMIT_Opensource_LLMs_Week_1_Evaluating_Models.ipynb\" target=\"_parent\"><img src=\"https://colab.research.google.com/assets/colab-badge.svg\" alt=\"Open In Colab\"/></a>"
   ]
  },
  {
   "cell_type": "markdown",
   "metadata": {
    "id": "A5iVWZKBO_bK"
   },
   "source": [
    "# Week 1: Productizing Large Language Models\n",
    "\n",
    "The focus of this project is model evaluation. We will use a dataset from a code explanation use and explore some of the evaluation approaches from the written material.\n",
    "\n",
    "Our object is to measure the performance of our LLM applications so that we can make decisions about quality and maintain performance."
   ]
  },
  {
   "cell_type": "markdown",
   "metadata": {
    "id": "khFneX8CBL6T"
   },
   "source": [
    "\n",
    "\n",
    "## [Optional] Part 0: Use OpenAI\n",
    "\n",
    "### Setting up OpenAI access\n",
    "\n",
    "Before we dive into the exciting world of open source large language models, we can compare results to proprietary model services like Open AI. This is useful if your transitioning an application to open source and want to compare the results. That said, it is not essential to the project that use Open AI, so feel free to skip ahead.\n",
    "\n",
    "### Open AI Python SDK Installation\n",
    "\n",
    "The first step is to install the `openai` Python library. This library is a convenient tool that allows us to interact with the OpenAI API programmatically.\n",
    "\n",
    "Please run the following command to install the `openai` library in your Jupyter notebook:\n"
   ]
  },
  {
   "cell_type": "code",
   "execution_count": null,
   "metadata": {
    "colab": {
     "base_uri": "https://localhost:8080/"
    },
    "id": "YEFBNlPsVVo8",
    "outputId": "64e1ef8f-ac54-4ff7-f72f-18e8e8603938"
   },
   "outputs": [],
   "source": [
    "# !pip install openai -q"
   ]
  },
  {
   "cell_type": "code",
   "execution_count": null,
   "metadata": {
    "id": "tP2mdEtsUBQd"
   },
   "outputs": [],
   "source": [
    "# Before you do this step, please ensure you have created both OpenAI and HuggingFace tokens. Click on the 'Key' Icon in the sidebar on the left to input your tokens.\n",
    "# from google.colab import userdata"
   ]
  },
  {
   "cell_type": "code",
   "execution_count": null,
   "metadata": {
    "id": "lLGYilq3TLUj"
   },
   "outputs": [],
   "source": [
    "# from openai import OpenAI\n",
    "\n",
    "# client = OpenAI(\n",
    "#     api_key=userdata.get('OPENAI_API_KEY'),\n",
    "# )"
   ]
  },
  {
   "cell_type": "markdown",
   "metadata": {
    "id": "3VnuuXvjLjho"
   },
   "source": [
    "### Importing the Library\n",
    "Once installed, we need to import the library into our notebook environment:\n",
    "\n",
    "### API Key Configuration\n",
    "To use the API, you'll need an API key from OpenAI. This key is unique to you and serves as your credential when making API requests.\n",
    "\n",
    "Note: Keep your API key confidential to protect your account and prevent unauthorized usage. If you're viewing this notebook in a shared environment, remember to remove your API key before saving or sharing the notebook.\n",
    "\n",
    "Once you've entered your API key, you'll be all set to start using the OpenAI API in our following exercises. Let's embark on this journey of learning and discovery together!"
   ]
  },
  {
   "cell_type": "markdown",
   "metadata": {
    "id": "F93SKrQTBCWT"
   },
   "source": [
    "## Part 1: Load Our Use Case Data\n",
    "\n",
    "Now we're starting on the project itself. We will use a dataset of code for our use case on **code explanation**.\n",
    "\n",
    "### Accessing Code Generation Datasets\n",
    "\n",
    "In this section of our course, we will explore datasets that are crucial for training and evaluating models specialized in code generation. We will be using the `datasets` library from Hugging Face to load a dataset that is pertinent to our work with CodeParrot—a model that is an adaptation of GPT-2 aimed at generating Python code.\n",
    "\n",
    "### Loading the Dataset\n",
    "\n",
    "To start, we'll load the `github-code` dataset, which is a part of the CodeParrot project:\n",
    "\n",
    "With the streaming=True argument, we load the dataset in a streaming fashion, which is suitable for large datasets."
   ]
  },
  {
   "cell_type": "code",
   "execution_count": null,
   "metadata": {
    "colab": {
     "base_uri": "https://localhost:8080/"
    },
    "id": "tR6eEz8gj6m8",
    "outputId": "e00a1762-b73d-4287-f384-d745ca422f9d"
   },
   "outputs": [],
   "source": [
    "!pip install datasets transformers evaluate -qqq"
   ]
  },
  {
   "cell_type": "markdown",
   "metadata": {
    "id": "PoqI4huZMH--"
   },
   "source": [
    "### Alternative Datasets:\n",
    "As we progress, we should also be aware of the latest data resources available to us. There are a number of other comparable datasets for code generation tasks that we could. Feel free to explore these if you're interested in this use case.\n",
    "\n",
    "Here is a list of datasets to explore:\n",
    "\n",
    "* codeparrot-clean: Dataset for training and evaluating CodeParrot.\n",
    "* GitHub-Code: A 1TB dataset comprising files in 32 programming languages from GitHub.\n",
    "* GitHub-Jupyter: A dataset of Jupyter Notebooks mined from BigQuery GitHub.\n",
    "* APPS: A benchmark for code generation with 10,000 problems."
   ]
  },
  {
   "cell_type": "markdown",
   "metadata": {
    "id": "JD8escAXBgq2"
   },
   "source": [
    "## Part 2: Load Open source Models\n",
    "\n",
    "Now we're going to start using open source models! At first, we will just download some models from the [huggingface hub](https://huggingface.co/docs/hub/models-the-hub) and evaluate them. In later weeks we will build on this use case, and these models will serve as our baseline.\n",
    "\n",
    "### 2.1 Utilizing Transformers for Text-to-Code Generation\n",
    "\n",
    "As we delve into the fascinating world of code generation and interpretation, we will be using models from the `transformers` library. This powerful library, created by Hugging Face, provides us with pre-trained models that can perform a variety of tasks related to natural language processing and beyond.\n",
    "\n",
    "/home/eschejter/e_git/sink-ncd-fhir-mapper/src/test/resources/fhir_bundle_datablock_valid_meona.jsonIn the code cell below, we load a finetuned model named `deepseek-ai/deepseek-coder-1.3b-instruct`. This model is part of the Deepseek family, tailored to generate code snippets.\n",
    "\n",
    "### AutoTokenizer\n",
    "\n",
    "First, we will initialize the `AutoTokenizer`:"
   ]
  },
  {
   "cell_type": "markdown",
   "metadata": {
    "id": "IMOl4iSMNG1z"
   },
   "source": [
    "The AutoTokenizer is responsible for converting the input text into tokens that the model can understand. By using `from_pretrained`, we load a tokenizer that is already trained to work with the Deepseek model. This ensures that the tokenization is aligned with the model's training.\n",
    "\n",
    "### AutoModelForCausalLM\n",
    "Following the tokenizer, we'll load the actual model:"
   ]
  },
  {
   "cell_type": "markdown",
   "metadata": {
    "id": "fpTtWJgFNTfw"
   },
   "source": [
    "AutoModelForCausalLM stands for an AutoModel for Causal Language Modeling. Causal language modeling is a type of model that predicts the next token in a sequence, which is exactly what we need for generating text from code. The model we are loading has been fine-tuned to not just generate any text, but specifically to generate natural language explanations of code. The `Auto` part means that `transformers` will figure out exactly which model class and configuration you need for the model you are referring to."
   ]
  },
  {
   "cell_type": "code",
   "execution_count": 36,
   "metadata": {
    "ExecuteTime": {
     "end_time": "2024-01-27T21:00:26.705879887Z",
     "start_time": "2024-01-27T21:00:23.831082386Z"
    }
   },
   "outputs": [],
   "source": [
    "!pip install jupyter ipywidgets -qq"
   ]
  },
  {
   "cell_type": "code",
   "execution_count": null,
   "metadata": {
    "colab": {
     "base_uri": "https://localhost:8080/",
     "height": 49,
     "referenced_widgets": [
      "a302a040bcce4e2888a0fc4ff5bf248d",
      "44671579c1894962a4ec567de79604a9",
      "bc01e5e29b7d48ce999f7ddb21b8c548",
      "fae3c917ef3b4ea88e6080452952ab63",
      "c3005e0ee69c4527a48e290c3333035f",
      "47173b11b02a4a6b8d72cb30158537b2",
      "1551be129e804b07b944cc3ce05e3c06",
      "cc635ed5929647f5bc6ed78b6c2cb66d",
      "5bd145c841f24d72ba739e7ac404587f",
      "36f7e887803c42019e10ab15a5b220d3",
      "f14813d9c5294c50986f85b2012bfbb1"
     ]
    },
    "id": "7F-I5fNG380N",
    "outputId": "cf05e2a7-a6f1-49e4-bbdc-72a7379a11db"
   },
   "outputs": [],
   "source": [
    "import torch\n",
    "from transformers import AutoTokenizer, AutoModelForCausalLM\n",
    "\n",
    "tokenizer = AutoTokenizer.from_pretrained(\"deepseek-ai/deepseek-coder-1.3b-instruct\", trust_remote_code=True)"
   ]
  },
  {
   "cell_type": "code",
   "execution_count": null,
   "metadata": {},
   "outputs": [],
   "source": [
    "model = AutoModelForCausalLM.from_pretrained(\"deepseek-ai/deepseek-coder-1.3b-instruct\", trust_remote_code=True, resume_download=True) # .cuda()"
   ]
  },
  {
   "cell_type": "code",
   "execution_count": null,
   "metadata": {},
   "outputs": [],
   "source": [
    "type(model)"
   ]
  },
  {
   "cell_type": "markdown",
   "metadata": {
    "id": "XNaaHhkZaBf-"
   },
   "source": [
    "## 2.2 Load an LLM in a Pipeline\n",
    "\n",
    "### Pipeline\n",
    "Finally, we create a pipeline. The Pipeline API is a powerful abstraction in Hugging Face that hides most of the other APIs, making it easier to perform tasks in the Hugging Face ecosystem (You can learn more about pipelines [here](https://huggingface.co/docs/transformers/main_classes/pipelines/))\n",
    "This pipeline will use the tokenizer and model we just loaded to process input data and generate predictions in a streamlined manner:"
   ]
  },
  {
   "cell_type": "code",
   "execution_count": null,
   "metadata": {
    "id": "vROWaeOx9YFA"
   },
   "outputs": [],
   "source": [
    "from transformers import pipeline\n",
    "\n",
    "pipe = pipeline(\"text-generation\", model=model, tokenizer=tokenizer) # setting device=0 allows you use GPU"
   ]
  },
  {
   "cell_type": "markdown",
   "metadata": {
    "id": "-eXXfEO6AMRv"
   },
   "source": [
    "## Part 3: Prompt Engineering\n",
    "### Introducing the Code Explanation Use Case\n",
    "In the realm of software development, understanding code is as crucial as writing it. Whether for educational purposes, code review, or improving documentation, being able to generate concise explanations of code segments can significantly enhance productivity and comprehension.\n",
    "\n",
    "To explore this, our next use case involves the task of code explanation. We will employ two different methods to automatically generate explanations for given pieces of Python code. These explanations aim to be understandable by humans, potentially aiding in learning and reviewing processes.\n",
    "\n",
    "Method 1: OpenAI's Language Model\n",
    "Our first approach uses OpenAI's language model. We've crafted a prompt that sets the context for the model, informing it that it should take on the role of a Python engineer explaining the supplied code.\n",
    "\n"
   ]
  },
  {
   "cell_type": "markdown",
   "metadata": {
    "id": "EtNY-WhD_Wyl"
   },
   "source": [
    "Here's the function openai_infer that encapsulates the logic for this:"
   ]
  },
  {
   "cell_type": "code",
   "execution_count": null,
   "metadata": {
    "id": "Tq_h6CqhBwJV"
   },
   "outputs": [],
   "source": [
    "# TODO: Define prompt to explain python code\n",
    "\n",
    "\"\"\"\n",
    "OPENAI_PROMPT = \"For the code attached to this prompt, I need you to give me a step-by-step breakdown of what it does: {code}\"\n",
    "\n",
    "\n",
    "def openai_infer(code: str) -> str:\n",
    "    completion = client.chat.completions.create(\n",
    "    messages=[\n",
    "        {\n",
    "            \"role\": \"user\",\n",
    "            \"content\": OPENAI_PROMPT.format(code=code),\n",
    "        }\n",
    "    ],\n",
    "    model=\"gpt-3.5-turbo\",\n",
    "    )\n",
    "    return completion.choices[0].message.content\n",
    "\n",
    "\"\"\""
   ]
  },
  {
   "cell_type": "code",
   "execution_count": null,
   "metadata": {
    "colab": {
     "base_uri": "https://localhost:8080/"
    },
    "id": "vQeGLc8RCzTc",
    "outputId": "556c6de8-d364-431a-af2f-4914bf537327"
   },
   "outputs": [],
   "source": [
    "'''\n",
    "code = \"\"\"[a * 10 for a in range(10)]\"\"\"\n",
    "\n",
    "print(f\"{openai_infer(code)}\")\n",
    "'''"
   ]
  },
  {
   "cell_type": "markdown",
   "metadata": {
    "id": "I-7088_FN4Lw"
   },
   "source": [
    "This function sends the code to OpenAI's API, which then returns the model's attempt at explaining the code snippet.\n",
    "\n",
    "Method 2: Hugging Face's pipeline with Deepseek.\n",
    "The second approach leverages the pipeline from Hugging Face's transformers library in conjunction with the `deepseek-ai/deepseek-coder-1.3b-instruct` model. This pipeline is fine-tuned for the specific task of code explanation.\n",
    "\n",
    "Here's the code_generation function that uses this method:"
   ]
  },
  {
   "cell_type": "code",
   "execution_count": null,
   "metadata": {
    "id": "hTBaLlUqE6DZ"
   },
   "outputs": [],
   "source": [
    "code = \"[a * 10 for a in range(10)]\"\n",
    "OPENSOURCE_PROMPT = f\"I need you to give me a step-by-step breakdown of what this code does: {code}\"\n",
    "\n",
    "# Generate a response with a specific max_new_tokens value\n",
    "generated_response = pipe(OPENSOURCE_PROMPT, max_new_tokens=512)\n",
    "\n",
    "# Print the generated response\n",
    "print(generated_response)"
   ]
  },
  {
   "cell_type": "code",
   "execution_count": null,
   "metadata": {
    "colab": {
     "base_uri": "https://localhost:8080/"
    },
    "id": "Jn0KhG874z25",
    "outputId": "4380a434-7027-4381-9126-868941d1d2cf"
   },
   "outputs": [],
   "source": [
    "# If you would like to have more control over the model's output by setting some parameters abstracted in the pipeline, you could uncomment and use the code snippet below:\n",
    "\n",
    "\n",
    "# code = \"\"\"[a * 10 for a in range(10)]\"\"\"\n",
    "# OPENSOURCE_PROMPT = f\"I need you to give me a step-by-step breakdown of what this code does: {code}\"\n",
    "\n",
    "# messages=[\n",
    "#     { 'role': 'user', 'content': OPENSOURCE_PROMPT}\n",
    "# ]\n",
    "# inputs = tokenizer.apply_chat_template(messages, add_generation_prompt=True, return_tensors=\"pt\").to(model.device)\n",
    "\n",
    "# outputs = model.generate(inputs, max_new_tokens=512, do_sample=False, top_k=50, top_p=0.95, num_return_sequences=1, eos_token_id=32021) # 32021 is the id of <|EOT|> token\n",
    "\n",
    "# print(tokenizer.decode(outputs[0][len(inputs[0]):], skip_special_tokens=True))"
   ]
  },
  {
   "cell_type": "markdown",
   "metadata": {
    "id": "UdhCYHUXAPBT"
   },
   "source": [
    "The code_generation function takes a code snippet and appends it to a predefined prompt that signals the start of an explanation. The pipeline then generates text that seeks to explain the code snippet.\n",
    "\n",
    "## Part 4: Evaluating Language Models\n",
    "\n",
    "In the following cells, we will test these methods on various code snippets to evaluate their effectiveness. We aim to compare the quality, clarity, and accuracy of the explanations provided by both approaches."
   ]
  },
  {
   "cell_type": "markdown",
   "metadata": {
    "id": "Np4O9AKdAvE2"
   },
   "source": [
    "## 4.1 Text quality based metrics for evaluation\n",
    "In the world of automated text generation, particularly when generating explanations for code, it isn't enough to have the text merely generated; the quality of the generated text is crucial. Quality can encompass various aspects, such as readability, coherence, and overall clarity. This is where our evaluation cell comes into play.\n",
    "\n",
    "Evaluation Function: compute_text_metrics\n",
    "To evaluate the generated explanations, we will be using a function called compute_text_metrics. This function utilizes the textdescriptives Python library in combination with spaCy to compute readability and coherence metrics for any given text.\n",
    "\n",
    "### TASK:\n",
    "Look up the [text descriptives documentation](https://github.com/HLasse/TextDescriptives), select the metrics you want to use, and implement them in the function below.\n",
    "### Example of readability metrics\n",
    "\n",
    "```python\n",
    "[\n",
    "    'text', 'flesch_reading_ease', 'flesch_kincaid_grade', 'smog',\n",
    "    'gunning_fog', 'automated_readability_index', 'coleman_liau_index',\n",
    "    'lix', 'rix', 'token_length_mean', 'token_length_median',\n",
    "    'token_length_std', 'sentence_length_mean', 'sentence_length_median',\n",
    "   'sentence_length_std', 'syllables_per_token_mean',\n",
    "   'syllables_per_token_median', 'syllables_per_token_std', 'n_tokens',\n",
    "    'n_unique_tokens', 'proportion_unique_tokens', 'n_characters',\n",
    "    'n_sentences'\n",
    "]\n",
    "```\n"
   ]
  },
  {
   "cell_type": "code",
   "execution_count": null,
   "metadata": {
    "id": "ckWSJeSGDP2Z"
   },
   "outputs": [],
   "source": [
    "# If you run into a Colab 'NotImplementedError: A UTF-8 locale is required. Got ANSI_X3.4-1968', this code block resolves the problem\n",
    "# import locale\n",
    "# locale.getpreferredencoding = lambda: \"UTF-8\""
   ]
  },
  {
   "cell_type": "code",
   "execution_count": null,
   "metadata": {
    "colab": {
     "base_uri": "https://localhost:8080/"
    },
    "id": "aMItOz3uDIQD",
    "outputId": "09ef817c-5366-4984-9a84-2791ff2bdf1e"
   },
   "outputs": [],
   "source": [
    "import os\n",
    "os.environ['TOKENIZERS_PARALLELISM']='true'"
   ]
  },
  {
   "cell_type": "code",
   "outputs": [
    {
     "name": "stdout",
     "output_type": "stream",
     "text": [
      "Defaulting to user installation because normal site-packages is not writeable\r\n",
      "Collecting textdescriptives\r\n",
      "  Downloading textdescriptives-2.7.1-py3-none-any.whl (254 kB)\r\n",
      "\u001B[2K     \u001B[90m━━━━━━━━━━━━━━━━━━━━━━━━━━━━━━━━━━━━━━━\u001B[0m \u001B[32m254.3/254.3 KB\u001B[0m \u001B[31m1.5 MB/s\u001B[0m eta \u001B[36m0:00:00\u001B[0ma \u001B[36m0:00:01\u001B[0m\r\n",
      "\u001B[?25hCollecting ftfy<6.1.0,>=6.0.3\r\n",
      "  Using cached ftfy-6.0.3-py3-none-any.whl\r\n",
      "Collecting spacy[lookups]>=3.1.0\r\n",
      "  Downloading spacy-3.7.2-cp310-cp310-manylinux_2_17_x86_64.manylinux2014_x86_64.whl (6.6 MB)\r\n",
      "\u001B[2K     \u001B[90m━━━━━━━━━━━━━━━━━━━━━━━━━━━━━━━━━━━━━━━━\u001B[0m \u001B[32m6.6/6.6 MB\u001B[0m \u001B[31m3.7 MB/s\u001B[0m eta \u001B[36m0:00:00\u001B[0m00:01\u001B[0m00:01\u001B[0m\r\n",
      "\u001B[?25hRequirement already satisfied: numpy>=1.20.0 in /home/eschejter/.local/lib/python3.10/site-packages (from textdescriptives) (1.26.3)\r\n",
      "Collecting pyphen<0.15.0,>=0.11.0\r\n",
      "  Downloading pyphen-0.14.0-py3-none-any.whl (2.0 MB)\r\n",
      "\u001B[2K     \u001B[90m━━━━━━━━━━━━━━━━━━━━━━━━━━━━━━━━━━━━━━━━\u001B[0m \u001B[32m2.0/2.0 MB\u001B[0m \u001B[31m5.4 MB/s\u001B[0m eta \u001B[36m0:00:00\u001B[0m00:01\u001B[0m00:01\u001B[0m\r\n",
      "\u001B[?25hRequirement already satisfied: pandas>=1.0.0 in /home/eschejter/.local/lib/python3.10/site-packages (from textdescriptives) (2.2.0)\r\n",
      "Requirement already satisfied: wcwidth in /home/eschejter/.local/lib/python3.10/site-packages (from ftfy<6.1.0,>=6.0.3->textdescriptives) (0.2.13)\r\n",
      "Requirement already satisfied: tzdata>=2022.7 in /home/eschejter/.local/lib/python3.10/site-packages (from pandas>=1.0.0->textdescriptives) (2023.4)\r\n",
      "Requirement already satisfied: python-dateutil>=2.8.2 in /home/eschejter/.local/lib/python3.10/site-packages (from pandas>=1.0.0->textdescriptives) (2.8.2)\r\n",
      "Requirement already satisfied: pytz>=2020.1 in /usr/lib/python3/dist-packages (from pandas>=1.0.0->textdescriptives) (2022.1)\r\n",
      "Requirement already satisfied: pydantic!=1.8,!=1.8.1,<3.0.0,>=1.7.4 in /home/eschejter/.local/lib/python3.10/site-packages (from spacy[lookups]>=3.1.0->textdescriptives) (2.5.3)\r\n",
      "Collecting cymem<2.1.0,>=2.0.2\r\n",
      "  Downloading cymem-2.0.8-cp310-cp310-manylinux_2_17_x86_64.manylinux2014_x86_64.whl (46 kB)\r\n",
      "\u001B[2K     \u001B[90m━━━━━━━━━━━━━━━━━━━━━━━━━━━━━━━━━━━━━━━━\u001B[0m \u001B[32m46.1/46.1 KB\u001B[0m \u001B[31m4.7 MB/s\u001B[0m eta \u001B[36m0:00:00\u001B[0m\r\n",
      "\u001B[?25hCollecting typer<0.10.0,>=0.3.0\r\n",
      "  Downloading typer-0.9.0-py3-none-any.whl (45 kB)\r\n",
      "\u001B[2K     \u001B[90m━━━━━━━━━━━━━━━━━━━━━━━━━━━━━━━━━━━━━━━━\u001B[0m \u001B[32m45.9/45.9 KB\u001B[0m \u001B[31m5.3 MB/s\u001B[0m eta \u001B[36m0:00:00\u001B[0m\r\n",
      "\u001B[?25hCollecting smart-open<7.0.0,>=5.2.1\r\n",
      "  Downloading smart_open-6.4.0-py3-none-any.whl (57 kB)\r\n",
      "\u001B[2K     \u001B[90m━━━━━━━━━━━━━━━━━━━━━━━━━━━━━━━━━━━━━━━━\u001B[0m \u001B[32m57.0/57.0 KB\u001B[0m \u001B[31m6.8 MB/s\u001B[0m eta \u001B[36m0:00:00\u001B[0m\r\n",
      "\u001B[?25hCollecting wasabi<1.2.0,>=0.9.1\r\n",
      "  Downloading wasabi-1.1.2-py3-none-any.whl (27 kB)\r\n",
      "Requirement already satisfied: setuptools in /usr/lib/python3/dist-packages (from spacy[lookups]>=3.1.0->textdescriptives) (59.6.0)\r\n",
      "Collecting preshed<3.1.0,>=3.0.2\r\n",
      "  Downloading preshed-3.0.9-cp310-cp310-manylinux_2_5_x86_64.manylinux1_x86_64.manylinux_2_17_x86_64.manylinux2014_x86_64.whl (156 kB)\r\n",
      "\u001B[2K     \u001B[90m━━━━━━━━━━━━━━━━━━━━━━━━━━━━━━━━━━━━━━━\u001B[0m \u001B[32m156.9/156.9 KB\u001B[0m \u001B[31m7.4 MB/s\u001B[0m eta \u001B[36m0:00:00\u001B[0m\r\n",
      "\u001B[?25hCollecting catalogue<2.1.0,>=2.0.6\r\n",
      "  Downloading catalogue-2.0.10-py3-none-any.whl (17 kB)\r\n",
      "Collecting murmurhash<1.1.0,>=0.28.0\r\n",
      "  Downloading murmurhash-1.0.10-cp310-cp310-manylinux_2_5_x86_64.manylinux1_x86_64.manylinux_2_17_x86_64.manylinux2014_x86_64.whl (29 kB)\r\n",
      "Requirement already satisfied: jinja2 in /home/eschejter/.local/lib/python3.10/site-packages (from spacy[lookups]>=3.1.0->textdescriptives) (3.1.3)\r\n",
      "Collecting srsly<3.0.0,>=2.4.3\r\n",
      "  Downloading srsly-2.4.8-cp310-cp310-manylinux_2_17_x86_64.manylinux2014_x86_64.whl (493 kB)\r\n",
      "\u001B[2K     \u001B[90m━━━━━━━━━━━━━━━━━━━━━━━━━━━━━━━━━━━━━━━\u001B[0m \u001B[32m493.0/493.0 KB\u001B[0m \u001B[31m5.9 MB/s\u001B[0m eta \u001B[36m0:00:00\u001B[0ma \u001B[36m0:00:01\u001B[0m\r\n",
      "\u001B[?25hCollecting weasel<0.4.0,>=0.1.0\r\n",
      "  Downloading weasel-0.3.4-py3-none-any.whl (50 kB)\r\n",
      "\u001B[2K     \u001B[90m━━━━━━━━━━━━━━━━━━━━━━━━━━━━━━━━━━━━━━━━\u001B[0m \u001B[32m50.1/50.1 KB\u001B[0m \u001B[31m1.9 MB/s\u001B[0m eta \u001B[36m0:00:00\u001B[0m\r\n",
      "\u001B[?25hRequirement already satisfied: requests<3.0.0,>=2.13.0 in /home/eschejter/.local/lib/python3.10/site-packages (from spacy[lookups]>=3.1.0->textdescriptives) (2.21.0)\r\n",
      "Collecting thinc<8.3.0,>=8.1.8\r\n",
      "  Downloading thinc-8.2.2-cp310-cp310-manylinux_2_17_x86_64.manylinux2014_x86_64.whl (922 kB)\r\n",
      "\u001B[2K     \u001B[90m━━━━━━━━━━━━━━━━━━━━━━━━━━━━━━━━━━━━━━━\u001B[0m \u001B[32m922.3/922.3 KB\u001B[0m \u001B[31m4.9 MB/s\u001B[0m eta \u001B[36m0:00:00\u001B[0m00:01\u001B[0m00:01\u001B[0m\r\n",
      "\u001B[?25hRequirement already satisfied: packaging>=20.0 in /home/eschejter/.local/lib/python3.10/site-packages (from spacy[lookups]>=3.1.0->textdescriptives) (23.2)\r\n",
      "Collecting spacy-legacy<3.1.0,>=3.0.11\r\n",
      "  Downloading spacy_legacy-3.0.12-py2.py3-none-any.whl (29 kB)\r\n",
      "Collecting spacy-loggers<2.0.0,>=1.0.0\r\n",
      "  Downloading spacy_loggers-1.0.5-py3-none-any.whl (22 kB)\r\n",
      "Requirement already satisfied: tqdm<5.0.0,>=4.38.0 in /home/eschejter/.local/lib/python3.10/site-packages (from spacy[lookups]>=3.1.0->textdescriptives) (4.66.1)\r\n",
      "Collecting langcodes<4.0.0,>=3.2.0\r\n",
      "  Downloading langcodes-3.3.0-py3-none-any.whl (181 kB)\r\n",
      "\u001B[2K     \u001B[90m━━━━━━━━━━━━━━━━━━━━━━━━━━━━━━━━━━━━━━━\u001B[0m \u001B[32m181.6/181.6 KB\u001B[0m \u001B[31m5.3 MB/s\u001B[0m eta \u001B[36m0:00:00\u001B[0m\r\n",
      "\u001B[?25hCollecting spacy-lookups-data<1.1.0,>=1.0.3\r\n",
      "  Downloading spacy_lookups_data-1.0.5-py2.py3-none-any.whl (98.5 MB)\r\n",
      "\u001B[2K     \u001B[90m━━━━━━━━━━━━━━━━━━━━━━━━━━━━━━━━━━━━━━━━\u001B[0m \u001B[32m98.5/98.5 MB\u001B[0m \u001B[31m6.1 MB/s\u001B[0m eta \u001B[36m0:00:00\u001B[0m00:01\u001B[0m00:01\u001B[0m\r\n",
      "\u001B[?25hRequirement already satisfied: annotated-types>=0.4.0 in /home/eschejter/.local/lib/python3.10/site-packages (from pydantic!=1.8,!=1.8.1,<3.0.0,>=1.7.4->spacy[lookups]>=3.1.0->textdescriptives) (0.6.0)\r\n",
      "Requirement already satisfied: pydantic-core==2.14.6 in /home/eschejter/.local/lib/python3.10/site-packages (from pydantic!=1.8,!=1.8.1,<3.0.0,>=1.7.4->spacy[lookups]>=3.1.0->textdescriptives) (2.14.6)\r\n",
      "Requirement already satisfied: typing-extensions>=4.6.1 in /home/eschejter/.local/lib/python3.10/site-packages (from pydantic!=1.8,!=1.8.1,<3.0.0,>=1.7.4->spacy[lookups]>=3.1.0->textdescriptives) (4.9.0)\r\n",
      "Requirement already satisfied: six>=1.5 in /home/eschejter/.local/lib/python3.10/site-packages (from python-dateutil>=2.8.2->pandas>=1.0.0->textdescriptives) (1.12.0)\r\n",
      "Requirement already satisfied: chardet<3.1.0,>=3.0.2 in /home/eschejter/.local/lib/python3.10/site-packages (from requests<3.0.0,>=2.13.0->spacy[lookups]>=3.1.0->textdescriptives) (3.0.4)\r\n",
      "Requirement already satisfied: urllib3<1.25,>=1.21.1 in /home/eschejter/.local/lib/python3.10/site-packages (from requests<3.0.0,>=2.13.0->spacy[lookups]>=3.1.0->textdescriptives) (1.24.3)\r\n",
      "Requirement already satisfied: certifi>=2017.4.17 in /usr/lib/python3/dist-packages (from requests<3.0.0,>=2.13.0->spacy[lookups]>=3.1.0->textdescriptives) (2020.6.20)\r\n",
      "Requirement already satisfied: idna<2.9,>=2.5 in /home/eschejter/.local/lib/python3.10/site-packages (from requests<3.0.0,>=2.13.0->spacy[lookups]>=3.1.0->textdescriptives) (2.8)\r\n",
      "Collecting blis<0.8.0,>=0.7.8\r\n",
      "  Downloading blis-0.7.11-cp310-cp310-manylinux_2_17_x86_64.manylinux2014_x86_64.whl (10.2 MB)\r\n",
      "\u001B[2K     \u001B[90m━━━━━━━━━━━━━━━━━━━━━━━━━━━━━━━━━━━━━━━━\u001B[0m \u001B[32m10.2/10.2 MB\u001B[0m \u001B[31m5.6 MB/s\u001B[0m eta \u001B[36m0:00:00\u001B[0m00:01\u001B[0m0:01\u001B[0m\r\n",
      "\u001B[?25hCollecting confection<1.0.0,>=0.0.1\r\n",
      "  Downloading confection-0.1.4-py3-none-any.whl (35 kB)\r\n",
      "Requirement already satisfied: click<9.0.0,>=7.1.1 in /home/eschejter/.local/lib/python3.10/site-packages (from typer<0.10.0,>=0.3.0->spacy[lookups]>=3.1.0->textdescriptives) (8.1.7)\r\n",
      "Collecting cloudpathlib<0.17.0,>=0.7.0\r\n",
      "  Downloading cloudpathlib-0.16.0-py3-none-any.whl (45 kB)\r\n",
      "\u001B[2K     \u001B[90m━━━━━━━━━━━━━━━━━━━━━━━━━━━━━━━━━━━━━━━━\u001B[0m \u001B[32m45.0/45.0 KB\u001B[0m \u001B[31m1.4 MB/s\u001B[0m eta \u001B[36m0:00:00\u001B[0m\r\n",
      "\u001B[?25hRequirement already satisfied: MarkupSafe>=2.0 in /usr/lib/python3/dist-packages (from jinja2->spacy[lookups]>=3.1.0->textdescriptives) (2.0.1)\r\n",
      "Installing collected packages: cymem, wasabi, typer, spacy-lookups-data, spacy-loggers, spacy-legacy, smart-open, pyphen, murmurhash, langcodes, ftfy, cloudpathlib, catalogue, blis, srsly, preshed, confection, weasel, thinc, spacy, textdescriptives\r\n",
      "Successfully installed blis-0.7.11 catalogue-2.0.10 cloudpathlib-0.16.0 confection-0.1.4 cymem-2.0.8 ftfy-6.0.3 langcodes-3.3.0 murmurhash-1.0.10 preshed-3.0.9 pyphen-0.14.0 smart-open-6.4.0 spacy-3.7.2 spacy-legacy-3.0.12 spacy-loggers-1.0.5 spacy-lookups-data-1.0.5 srsly-2.4.8 textdescriptives-2.7.1 thinc-8.2.2 typer-0.9.0 wasabi-1.1.2 weasel-0.3.4\r\n"
     ]
    }
   ],
   "source": [
    "!pip install textdescriptives"
   ],
   "metadata": {
    "collapsed": false,
    "ExecuteTime": {
     "end_time": "2024-01-27T20:58:41.000831911Z",
     "start_time": "2024-01-27T20:58:13.712876658Z"
    }
   },
   "execution_count": 30
  },
  {
   "cell_type": "code",
   "execution_count": 31,
   "metadata": {
    "id": "d_6yG_IhASD1",
    "ExecuteTime": {
     "end_time": "2024-01-27T20:58:50.223930770Z",
     "start_time": "2024-01-27T20:58:48.180224261Z"
    }
   },
   "outputs": [],
   "source": [
    "import textdescriptives as td"
   ]
  },
  {
   "cell_type": "code",
   "outputs": [],
   "source": [
    "METRICS_TO_EVALUATE = [\"descriptive_stats\", \"readability\",\n",
    "                       \"dependency_distance\", \"pos_proportions\", \"coherence\", \"quality\",\n",
    "                       \"information_theory\"] # Select text descriptives metrics that you want to use to evaluate\n",
    "\n",
    "\n",
    "SPACY_MODEL = \"en_core_web_sm\"\n"
   ],
   "metadata": {
    "collapsed": false,
    "ExecuteTime": {
     "end_time": "2024-01-27T20:58:53.884806485Z",
     "start_time": "2024-01-27T20:58:53.878803936Z"
    }
   },
   "execution_count": 32
  },
  {
   "cell_type": "code",
   "outputs": [],
   "source": [
    "def compute_text_metrics(text):\n",
    "    \"\"\"Compute readability and coherence metrics for a given text.\"\"\"\n",
    "    # Extract metrics using textdescriptives\n",
    "    df = td.extract_metrics(text=text, spacy_model=SPACY_MODEL, metrics=METRICS_TO_EVALUATE)\n",
    "    # TODO: Add code here to filter down the metrics to your Use case.\n",
    "    results = df.iloc[0].to_dict()\n",
    "    return results"
   ],
   "metadata": {
    "collapsed": false,
    "ExecuteTime": {
     "end_time": "2024-01-27T21:22:56.510328412Z",
     "start_time": "2024-01-27T21:22:56.456476547Z"
    }
   },
   "execution_count": 72
  },
  {
   "cell_type": "code",
   "execution_count": 34,
   "metadata": {
    "colab": {
     "base_uri": "https://localhost:8080/"
    },
    "id": "oJbhTpZZEVUw",
    "outputId": "fd1126f5-b830-4a11-e495-4ff3c50529b7",
    "ExecuteTime": {
     "end_time": "2024-01-27T20:59:08.448497055Z",
     "start_time": "2024-01-27T20:58:59.990449102Z"
    }
   },
   "outputs": [
    {
     "name": "stdout",
     "output_type": "stream",
     "text": [
      "\u001B[38;5;4mℹ The specified spaCy model \"en_core_web_sm\" was not              found\n",
      "on disk. Downloading...\u001B[0m\n",
      "Defaulting to user installation because normal site-packages is not writeable\n",
      "Collecting en-core-web-sm==3.7.1\n",
      "  Downloading https://github.com/explosion/spacy-models/releases/download/en_core_web_sm-3.7.1/en_core_web_sm-3.7.1-py3-none-any.whl (12.8 MB)\n",
      "     ━━━━━━━━━━━━━━━━━━━━━━━━━━━━━━━━━━━━━━━━ 12.8/12.8 MB 4.9 MB/s eta 0:00:00\n",
      "Requirement already satisfied: spacy<3.8.0,>=3.7.2 in /home/eschejter/.local/lib/python3.10/site-packages (from en-core-web-sm==3.7.1) (3.7.2)\n",
      "Requirement already satisfied: cymem<2.1.0,>=2.0.2 in /home/eschejter/.local/lib/python3.10/site-packages (from spacy<3.8.0,>=3.7.2->en-core-web-sm==3.7.1) (2.0.8)\n",
      "Requirement already satisfied: smart-open<7.0.0,>=5.2.1 in /home/eschejter/.local/lib/python3.10/site-packages (from spacy<3.8.0,>=3.7.2->en-core-web-sm==3.7.1) (6.4.0)\n",
      "Requirement already satisfied: spacy-legacy<3.1.0,>=3.0.11 in /home/eschejter/.local/lib/python3.10/site-packages (from spacy<3.8.0,>=3.7.2->en-core-web-sm==3.7.1) (3.0.12)\n",
      "Requirement already satisfied: requests<3.0.0,>=2.13.0 in /home/eschejter/.local/lib/python3.10/site-packages (from spacy<3.8.0,>=3.7.2->en-core-web-sm==3.7.1) (2.21.0)\n",
      "Requirement already satisfied: tqdm<5.0.0,>=4.38.0 in /home/eschejter/.local/lib/python3.10/site-packages (from spacy<3.8.0,>=3.7.2->en-core-web-sm==3.7.1) (4.66.1)\n",
      "Requirement already satisfied: packaging>=20.0 in /home/eschejter/.local/lib/python3.10/site-packages (from spacy<3.8.0,>=3.7.2->en-core-web-sm==3.7.1) (23.2)\n",
      "Requirement already satisfied: thinc<8.3.0,>=8.1.8 in /home/eschejter/.local/lib/python3.10/site-packages (from spacy<3.8.0,>=3.7.2->en-core-web-sm==3.7.1) (8.2.2)\n",
      "Requirement already satisfied: murmurhash<1.1.0,>=0.28.0 in /home/eschejter/.local/lib/python3.10/site-packages (from spacy<3.8.0,>=3.7.2->en-core-web-sm==3.7.1) (1.0.10)\n",
      "Requirement already satisfied: catalogue<2.1.0,>=2.0.6 in /home/eschejter/.local/lib/python3.10/site-packages (from spacy<3.8.0,>=3.7.2->en-core-web-sm==3.7.1) (2.0.10)\n",
      "Requirement already satisfied: pydantic!=1.8,!=1.8.1,<3.0.0,>=1.7.4 in /home/eschejter/.local/lib/python3.10/site-packages (from spacy<3.8.0,>=3.7.2->en-core-web-sm==3.7.1) (2.5.3)\n",
      "Requirement already satisfied: setuptools in /usr/lib/python3/dist-packages (from spacy<3.8.0,>=3.7.2->en-core-web-sm==3.7.1) (59.6.0)\n",
      "Requirement already satisfied: jinja2 in /home/eschejter/.local/lib/python3.10/site-packages (from spacy<3.8.0,>=3.7.2->en-core-web-sm==3.7.1) (3.1.3)\n",
      "Requirement already satisfied: srsly<3.0.0,>=2.4.3 in /home/eschejter/.local/lib/python3.10/site-packages (from spacy<3.8.0,>=3.7.2->en-core-web-sm==3.7.1) (2.4.8)\n",
      "Requirement already satisfied: langcodes<4.0.0,>=3.2.0 in /home/eschejter/.local/lib/python3.10/site-packages (from spacy<3.8.0,>=3.7.2->en-core-web-sm==3.7.1) (3.3.0)\n",
      "Requirement already satisfied: typer<0.10.0,>=0.3.0 in /home/eschejter/.local/lib/python3.10/site-packages (from spacy<3.8.0,>=3.7.2->en-core-web-sm==3.7.1) (0.9.0)\n",
      "Requirement already satisfied: spacy-loggers<2.0.0,>=1.0.0 in /home/eschejter/.local/lib/python3.10/site-packages (from spacy<3.8.0,>=3.7.2->en-core-web-sm==3.7.1) (1.0.5)\n",
      "Requirement already satisfied: preshed<3.1.0,>=3.0.2 in /home/eschejter/.local/lib/python3.10/site-packages (from spacy<3.8.0,>=3.7.2->en-core-web-sm==3.7.1) (3.0.9)\n",
      "Requirement already satisfied: numpy>=1.19.0 in /home/eschejter/.local/lib/python3.10/site-packages (from spacy<3.8.0,>=3.7.2->en-core-web-sm==3.7.1) (1.26.3)\n",
      "Requirement already satisfied: weasel<0.4.0,>=0.1.0 in /home/eschejter/.local/lib/python3.10/site-packages (from spacy<3.8.0,>=3.7.2->en-core-web-sm==3.7.1) (0.3.4)\n",
      "Requirement already satisfied: wasabi<1.2.0,>=0.9.1 in /home/eschejter/.local/lib/python3.10/site-packages (from spacy<3.8.0,>=3.7.2->en-core-web-sm==3.7.1) (1.1.2)\n",
      "Requirement already satisfied: annotated-types>=0.4.0 in /home/eschejter/.local/lib/python3.10/site-packages (from pydantic!=1.8,!=1.8.1,<3.0.0,>=1.7.4->spacy<3.8.0,>=3.7.2->en-core-web-sm==3.7.1) (0.6.0)\n",
      "Requirement already satisfied: pydantic-core==2.14.6 in /home/eschejter/.local/lib/python3.10/site-packages (from pydantic!=1.8,!=1.8.1,<3.0.0,>=1.7.4->spacy<3.8.0,>=3.7.2->en-core-web-sm==3.7.1) (2.14.6)\n",
      "Requirement already satisfied: typing-extensions>=4.6.1 in /home/eschejter/.local/lib/python3.10/site-packages (from pydantic!=1.8,!=1.8.1,<3.0.0,>=1.7.4->spacy<3.8.0,>=3.7.2->en-core-web-sm==3.7.1) (4.9.0)\n",
      "Requirement already satisfied: idna<2.9,>=2.5 in /home/eschejter/.local/lib/python3.10/site-packages (from requests<3.0.0,>=2.13.0->spacy<3.8.0,>=3.7.2->en-core-web-sm==3.7.1) (2.8)\n",
      "Requirement already satisfied: urllib3<1.25,>=1.21.1 in /home/eschejter/.local/lib/python3.10/site-packages (from requests<3.0.0,>=2.13.0->spacy<3.8.0,>=3.7.2->en-core-web-sm==3.7.1) (1.24.3)\n",
      "Requirement already satisfied: chardet<3.1.0,>=3.0.2 in /home/eschejter/.local/lib/python3.10/site-packages (from requests<3.0.0,>=2.13.0->spacy<3.8.0,>=3.7.2->en-core-web-sm==3.7.1) (3.0.4)\n",
      "Requirement already satisfied: certifi>=2017.4.17 in /usr/lib/python3/dist-packages (from requests<3.0.0,>=2.13.0->spacy<3.8.0,>=3.7.2->en-core-web-sm==3.7.1) (2020.6.20)\n",
      "Requirement already satisfied: blis<0.8.0,>=0.7.8 in /home/eschejter/.local/lib/python3.10/site-packages (from thinc<8.3.0,>=8.1.8->spacy<3.8.0,>=3.7.2->en-core-web-sm==3.7.1) (0.7.11)\n",
      "Requirement already satisfied: confection<1.0.0,>=0.0.1 in /home/eschejter/.local/lib/python3.10/site-packages (from thinc<8.3.0,>=8.1.8->spacy<3.8.0,>=3.7.2->en-core-web-sm==3.7.1) (0.1.4)\n",
      "Requirement already satisfied: click<9.0.0,>=7.1.1 in /home/eschejter/.local/lib/python3.10/site-packages (from typer<0.10.0,>=0.3.0->spacy<3.8.0,>=3.7.2->en-core-web-sm==3.7.1) (8.1.7)\n",
      "Requirement already satisfied: cloudpathlib<0.17.0,>=0.7.0 in /home/eschejter/.local/lib/python3.10/site-packages (from weasel<0.4.0,>=0.1.0->spacy<3.8.0,>=3.7.2->en-core-web-sm==3.7.1) (0.16.0)\n",
      "Requirement already satisfied: MarkupSafe>=2.0 in /usr/lib/python3/dist-packages (from jinja2->spacy<3.8.0,>=3.7.2->en-core-web-sm==3.7.1) (2.0.1)\n",
      "Installing collected packages: en-core-web-sm\n",
      "Successfully installed en-core-web-sm-3.7.1\n",
      "\u001B[38;5;2m✔ Download and installation successful\u001B[0m\n",
      "You can now load the package via spacy.load('en_core_web_sm')\n"
     ]
    },
    {
     "name": "stderr",
     "output_type": "stream",
     "text": [
      "/home/eschejter/.local/lib/python3.10/site-packages/textdescriptives/components/coherence.py:44: UserWarning: [W007] The model you're using has no word vectors loaded, so the result of the Span.similarity method will be based on the tagger, parser and NER, which may not give useful similarity judgements. This may happen if you're using one of the small models, e.g. `en_core_web_sm`, which don't ship with word vectors and only use context-sensitive tensors. You can always add your own word vectors, or use one of the larger models instead if available.\n",
      "  similarities.append(sent.similarity(sents[i + order]))\n"
     ]
    },
    {
     "data": {
      "text/plain": "{'text': \"\\nThe code you provided is a list comprehension in Python.\\n\\nIn this specific list comprehension, it generates a list of numbers where each element is the result of multiplying a number from 0 to 9 (generated by the `range(10)` function) by 10.\\n\\nLet's break down the code step by step:\\n\\n1. `range(10)` generates a sequence of numbers from 0 to 9 (excluding 10).\\n2. The `for a in range(10)` part assigns each number from the range to the variable `a` during each iteration.\\n3. `a * 10` multiplies each value of `a` by 10.\\n4. Finally, `[a * 10 for a in range(10)]` builds a new list by storing the multiplied results in it.\\n\\nAs a result, the code generates the list `[0, 10, 20, 30, 40, 50, 60, 70, 80, 90]`, where each element is obtained by multiplying a number from 0 to 9 by 10.\\n\",\n 'entropy': 6.917047865560941,\n 'perplexity': 1009.3358967119027,\n 'per_word_perplexity': 4.806361412913822,\n 'first_order_coherence': 0.4360910082856814,\n 'second_order_coherence': 0.5630173683166504,\n 'token_length_mean': 3.523529411764706,\n 'token_length_median': 2.0,\n 'token_length_std': 2.7784950246628344,\n 'sentence_length_mean': 17.0,\n 'sentence_length_median': 15.0,\n 'sentence_length_std': 11.593101396951552,\n 'syllables_per_token_mean': 1.2823529411764707,\n 'syllables_per_token_median': 1.0,\n 'syllables_per_token_std': 0.6528086776002391,\n 'n_tokens': 170,\n 'n_unique_tokens': 69,\n 'proportion_unique_tokens': 0.40588235294117647,\n 'n_characters': 640,\n 'n_sentences': 10,\n 'flesch_reading_ease': 81.0929411764706,\n 'flesch_kincaid_grade': 6.171764705882357,\n 'smog': 9.642632912329528,\n 'gunning_fog': 9.858823529411765,\n 'automated_readability_index': 3.665823529411764,\n 'coleman_liau_index': 3.1771764705882326,\n 'lix': 34.64705882352941,\n 'rix': 3.0,\n 'dependency_distance_mean': 2.9021063877642823,\n 'dependency_distance_std': 1.553369386664832,\n 'prop_adjacent_dependency_relation_mean': 0.4278004198530514,\n 'prop_adjacent_dependency_relation_std': 0.07162069640772868,\n 'passed_quality_check': False,\n 'n_stop_words': 68.0,\n 'alpha_ratio': 0.5714285714285714,\n 'mean_word_length': 3.0476190476190474,\n 'doc_length': 210.0,\n 'symbol_to_word_ratio_#': 0.0,\n 'proportion_ellipsis': 0.0,\n 'proportion_bullet_points': 0.0,\n 'contains_lorem ipsum': 0.0,\n 'duplicate_line_chr_fraction': 0.0,\n 'duplicate_paragraph_chr_fraction': 0.0,\n 'duplicate_ngram_chr_fraction_5': 0.14762516046213095,\n 'duplicate_ngram_chr_fraction_6': 0.0821566110397946,\n 'duplicate_ngram_chr_fraction_7': 0.0821566110397946,\n 'duplicate_ngram_chr_fraction_8': 0.0,\n 'duplicate_ngram_chr_fraction_9': 0.0,\n 'duplicate_ngram_chr_fraction_10': 0.0,\n 'top_ngram_chr_fraction_2': 0.04621309370988447,\n 'top_ngram_chr_fraction_3': 0.03465982028241335,\n 'top_ngram_chr_fraction_4': 0.04236200256739409,\n 'oov_ratio': None,\n 'pos_prop_ADJ': 0.009523809523809525,\n 'pos_prop_ADP': 0.12857142857142856,\n 'pos_prop_ADV': 0.004761904761904762,\n 'pos_prop_AUX': 0.014285714285714285,\n 'pos_prop_CCONJ': 0.0,\n 'pos_prop_DET': 0.12857142857142856,\n 'pos_prop_INTJ': 0.0,\n 'pos_prop_NOUN': 0.1619047619047619,\n 'pos_prop_NUM': 0.10476190476190476,\n 'pos_prop_PART': 0.0,\n 'pos_prop_PRON': 0.02857142857142857,\n 'pos_prop_PROPN': 0.02857142857142857,\n 'pos_prop_PUNCT': 0.24285714285714285,\n 'pos_prop_SCONJ': 0.009523809523809525,\n 'pos_prop_SYM': 0.0,\n 'pos_prop_VERB': 0.06666666666666667,\n 'pos_prop_X': 0.02857142857142857}"
     },
     "execution_count": 34,
     "metadata": {},
     "output_type": "execute_result"
    }
   ],
   "source": [
    "example = \"\"\"\n",
    "The code you provided is a list comprehension in Python.\n",
    "\n",
    "In this specific list comprehension, it generates a list of numbers where each element is the result of multiplying a number from 0 to 9 (generated by the `range(10)` function) by 10.\n",
    "\n",
    "Let's break down the code step by step:\n",
    "\n",
    "1. `range(10)` generates a sequence of numbers from 0 to 9 (excluding 10).\n",
    "2. The `for a in range(10)` part assigns each number from the range to the variable `a` during each iteration.\n",
    "3. `a * 10` multiplies each value of `a` by 10.\n",
    "4. Finally, `[a * 10 for a in range(10)]` builds a new list by storing the multiplied results in it.\n",
    "\n",
    "As a result, the code generates the list `[0, 10, 20, 30, 40, 50, 60, 70, 80, 90]`, where each element is obtained by multiplying a number from 0 to 9 by 10.\n",
    "\"\"\"\n",
    "\n",
    "compute_text_metrics(example)"
   ]
  },
  {
   "cell_type": "markdown",
   "metadata": {
    "id": "IfsXJokARItn"
   },
   "source": [
    "The function takes in the text and a list of metric types (by default, 'readability' and 'coherence'). It uses textdescriptives to calculate these metrics and returns a simplified dictionary containing the results.\n",
    "\n",
    "#### Context on TextDescriptives\n",
    "TextDescriptives is a versatile Python library that calculates a wide range of statistics and metrics from texts. It extends the functionality of spaCy, a popular NLP library, allowing users to gather insights into the textual properties that contribute to the text's overall comprehensibility and flow.\n",
    "\n",
    "With TextDescriptives, we can measure the readability of the text through various established metrics and analyze the coherence by examining how different parts of the text relate to each other, among other things.\n",
    "\n",
    "#### Application\n",
    "The compute_text_metrics function will be applied to the explanations generated from both models. By doing this, we can quantitatively assess which method provides explanations that are not just correct, but also easier to understand and more coherent in terms of narrative flow.\n",
    "\n",
    "#### Upcoming Execution\n",
    "As we run the evaluation, we will compare these objective metrics alongside subjective assessments to get a holistic view of each method's efficacy in explaining code. Stay tuned to see which approach yields the most comprehensible explanations according to both numerical scores and human judgement."
   ]
  },
  {
   "cell_type": "markdown",
   "metadata": {
    "id": "ru4urUdIAx1e"
   },
   "source": [
    "## 4.2 Using Classification based metrics with Huggingface Evaluate\n",
    "\n",
    "Next, we'll use classification models to evaluate the generative models. Now, we're shifting focus to another vital aspect: ensuring the language used by the AI is appropriate and respectful. This is where the concept of toxicity in generated text becomes relevant, and the following cell is designed to evaluate just that.\n",
    "\n",
    "Evaluation Function: compute_toxicity_ratio\n",
    "To measure the potential toxicity in the generated explanations, we are introducing a function that uses the evaluate library, a library designed to easily evaluate and compare the outputs of AI models in a multitude of ways, including fairness, bias, and, as in this case, toxicity.\n",
    "\n",
    "Here's the code cell explained:"
   ]
  },
  {
   "cell_type": "code",
   "execution_count": 37,
   "metadata": {
    "colab": {
     "base_uri": "https://localhost:8080/",
     "height": 280,
     "referenced_widgets": [
      "aa9f7e2dafea4a05b993fb29da87dd83",
      "85e4d4c7bc3542ae9d3c7ee13cc6e29c",
      "d33d41c7d5b14c83bc01cf712f5136c4",
      "0cb05ddedca94c328def092bd29b7d63",
      "4ba65c98dbde407b9f05380a6fc523ea",
      "7097e122666942349fd6d220392cc2c7",
      "7c6813d124cc44f7aefb4e1fbb554000",
      "783c3a83a78544f9bac9ce280534f989",
      "092dabc68fb74d11bb0c77e18592a933",
      "aafd19830dd349cd8e99544cf981d0e2",
      "f26c7552179842efaf013c9388b053e2",
      "1dd0f605fe764fb1ba492b4e79844913",
      "c094801589734ecc87fa1b8e7da0e872",
      "b260f75f97004682923901e54a251672",
      "f6c8b0f7334d45608f657ed07e23c9f1",
      "b0d48599f920487e9fad10e2d09bba0d",
      "a6e26c33839d483db1dd39f165514b44",
      "949d4dc3063a4b6296cbbebf35aee454",
      "4e060a7ab8134c60a80b79ec2e3ca1bb",
      "23d4c2b588924b6c84c097ce63c152bd",
      "cd9460f0566047c9a02a9cb1a0c8a9fb",
      "b09ea356adf04eb9a573118d81fb5838",
      "ca79a7e44c2a4ddcaf9ac135e596c51b",
      "cc398940735c4606bbcc16995f4d3d17",
      "46b1299515064d8bb6e250abf80b6a03",
      "839edd949000422e8b9307b6e7554e2f",
      "a02fb7f81b094f44a81f3914f71d9e12",
      "37d0ded4866b4aeda394fdab588aeab0",
      "99cda03e4ceb4010a5b9d6fd06d75101",
      "c5209f5d49714dccbd5043735d4a2207",
      "86052bcb4746467fa9a188fb32d37458",
      "d843b2e3f25d427aa9d45059d54c2879",
      "321a258f11864d62b01a15579a1dd6da",
      "dad82c78a20645c5b93165baf0b05743",
      "da8f7b1499e046c5bb0045c427a006b9",
      "cd664dd82c62450bbc1da9870a977829",
      "628d07e826f24ce190959051801e847d",
      "20827696dd1d49a296f8e40494927136",
      "5b3281f60fc44348893a6650d15f1f30",
      "8d64373308e546e4930c1d6a6c32f287",
      "25288603a66e435ea81f522fd6e4b855",
      "c498ce3e5bc949c7a22770f60cca8d35",
      "8e4da054c92c416dbf9a0d1f12ff4881",
      "7dc4107c2ff64ad3bb7ed51eaf6b727c",
      "4c49fb8c1bdd4b908623be47f66c3910",
      "b057a32e4453480eaab0145ff0868cbc",
      "2efcd18eb5964db887521dc9725d0ade",
      "9418c2ff01ee463db9170ec1d7290482",
      "dfe536e985c94521982c6f7780cef4ce",
      "d829e77768a0421daf7d13b5604067c3",
      "3a0b0a3b4a1843b28813eb40feaf85d7",
      "59936b971b3e48569b75a048468c2ef4",
      "d472d4b60b004428b40ce1eca01eb996",
      "f5a8ac55363c4bd9bdabdb93f8e5addd",
      "eb6126b5dd1d41e088105708005372bf",
      "a9bbaa6c19974e3f91baa78f25cefc92",
      "b62c9c19d7b0464c8640ac61cacd282f",
      "9033a549a4f0454c86bb9c184c471888",
      "02ae9f7781444a0ca4793a6f4009e34a",
      "f8e503222ac4462086f751cde4b92e20",
      "2c23e08fb7704c6e885fe1c5f5af404e",
      "e9fc47492fba4ca894c13d64ab4badbb",
      "d99747ee0b0844c9960c0630074ae2e6",
      "3ea36d7af6254bb3ae57efb84ccbfd20",
      "dfffa4a652f44c2ba8a6c08ac0e5700a",
      "8e57ee275866479784a2a28d8e002ec5",
      "2180c20887a84ef8a2b7c6f456362227",
      "e95887ce038a4deab2f737dabf9417e4",
      "3ae8cec80c5e460f9e26a3fb9082d3a5",
      "9d763230007b4bbb8b442c7f3be7165d",
      "65ac2f9b72a54f4ca8784e0d2eefbf06",
      "36dda69edd924b7e8886680697cf0b9f",
      "8df85578a1be4cb793600f0888d51ea5",
      "2c554ad617914844902bd3c08bd5218a",
      "403cf2416ef644919e6b029d3a65cfa6",
      "1acacc7eb35e4de79e1ce5e97526b66e",
      "9aa62ee160b241bba6ae74d82549bbb6"
     ]
    },
    "id": "0ogzUrcdAx9t",
    "outputId": "9832a298-d5db-49b3-9a95-36a09c9bb957",
    "ExecuteTime": {
     "end_time": "2024-01-27T21:00:38.415890978Z",
     "start_time": "2024-01-27T21:00:35.480019581Z"
    }
   },
   "outputs": [
    {
     "name": "stderr",
     "output_type": "stream",
     "text": [
      "Using default facebook/roberta-hate-speech-dynabench-r4-target checkpoint\n"
     ]
    }
   ],
   "source": [
    "import evaluate\n",
    "\n",
    "# Load the toxicity model\n",
    "toxicity = evaluate.load(\"toxicity\")"
   ]
  },
  {
   "cell_type": "code",
   "execution_count": 38,
   "metadata": {
    "id": "O0BclGQhPDbB",
    "ExecuteTime": {
     "end_time": "2024-01-27T21:00:47.619698446Z",
     "start_time": "2024-01-27T21:00:47.573974365Z"
    }
   },
   "outputs": [],
   "source": [
    "def compute_toxicity_ratio(text):\n",
    "    \"\"\"Compute the toxicity ratio of generated samples\"\"\"\n",
    "    # Compute the toxicity score of the text\n",
    "    results = toxicity.compute(predictions=[text], aggregation=\"ratio\")\n",
    "\n",
    "    return results"
   ]
  },
  {
   "cell_type": "code",
   "execution_count": 39,
   "metadata": {
    "colab": {
     "base_uri": "https://localhost:8080/"
    },
    "id": "MFhScYotBU0S",
    "outputId": "e76c05a9-a1cf-4b73-8c1e-f6a840c74c35",
    "ExecuteTime": {
     "end_time": "2024-01-27T21:00:50.254925635Z",
     "start_time": "2024-01-27T21:00:49.621365824Z"
    }
   },
   "outputs": [
    {
     "name": "stdout",
     "output_type": "stream",
     "text": [
      "Not toxic: {'toxicity_ratio': 0.0}\n",
      "Toxic: {'toxicity_ratio': 1.0}\n"
     ]
    }
   ],
   "source": [
    "not_toxic = \"\"\"\n",
    "The code you provided is a list comprehension in Python.\n",
    "\n",
    "In this specific list comprehension, it generates a list of numbers where each element is the result of multiplying a number from 0 to 9 (generated by the `range(10)` function) by 10.\n",
    "\n",
    "Let's break down the code step by step:\n",
    "\n",
    "1. `range(10)` generates a sequence of numbers from 0 to 9 (excluding 10).\n",
    "2. The `for a in range(10)` part assigns each number from the range to the variable `a` during each iteration.\n",
    "3. `a * 10` multiplies each value of `a` by 10.\n",
    "4. Finally, `[a * 10 for a in range(10)]` builds a new list by storing the multiplied results in it.\n",
    "\n",
    "As a result, the code generates the list `[0, 10, 20, 30, 40, 50, 60, 70, 80, 90]`, where each element is obtained by multiplying a number from 0 to 9 by 10.\n",
    "\"\"\"\n",
    "\n",
    "toxic = \"\"\"The code you provided is a list comprehension in Python. written by an idiot. \"\"\"\n",
    "\n",
    "print(f\"Not toxic: {compute_toxicity_ratio(not_toxic)}\")\n",
    "print(f\"Toxic: {compute_toxicity_ratio(toxic)}\")"
   ]
  },
  {
   "cell_type": "markdown",
   "metadata": {
    "id": "Kk0_i3zqR0br"
   },
   "source": [
    "This function will calculate a toxicity ratio for the given predictions—texts generated as explanations of code snippets. Here's what it does:\n",
    "\n",
    "- It loads the toxicity metric from the evaluate library, which is specifically designed to assess the level of toxicity in text.\n",
    "- It defines compute_toxicity_ratio, which takes a list of text predictions (explanations) as input.\n",
    "- It computes the toxicity ratio using the toxicity.compute method, which returns the proportion of predictions that are considered toxic.\n",
    "- It extracts the toxicity_ratio from the results, which indicates the fraction of the text that may be problematic in terms of offensive or undesirable language.\n",
    "\n",
    "#### Application\n",
    "In practice, this function will be applied to the output generated text to ensure that the explanations they provide are not only informative and readable but also free from content that could be considered toxic or harmful. This is an essential check in maintaining ethical AI practices, especially when the model-generated text is intended for public or educational use.\n",
    "\n",
    "#### Upcoming Execution\n",
    "When we run this function on our generated code explanations, we aim to confirm that our AI maintains a professional and respectful tone. It's a safeguard against unintended negative outputs that could arise from the complex nature of language generation models. By ensuring a low toxicity ratio, we can trust that the AI's explanations are suitable for a broad audience."
   ]
  },
  {
   "cell_type": "markdown",
   "metadata": {
    "id": "LU3igWwUASns"
   },
   "source": [
    "## Part 5: [OPTIONAL] Model-based Evaluation of language models\n",
    "\n",
    "After discussing the tools for evaluating readability, coherence, and toxicity, we're now introducing a comprehensive model-based evaluation system. This system grades the quality of answers provided by an AI model. It leverages another language model to judge the responses' accuracy and relevance. Below is the Python code cell that encapsulates this process."
   ]
  },
  {
   "cell_type": "code",
   "execution_count": null,
   "metadata": {
    "id": "gtDgggfZ7zXA"
   },
   "outputs": [],
   "source": [
    "%%capture\n",
    "!pip install langchain"
   ]
  },
  {
   "cell_type": "code",
   "execution_count": null,
   "metadata": {
    "id": "CW1K0OLNETtw"
   },
   "outputs": [],
   "source": [
    "from langchain.chat_models import ChatOpenAI\n",
    "from langchain.chains import QAGenerationChain\n",
    "from langchain.evaluation.qa import QAEvalChain\n",
    "from langchain import PromptTemplate"
   ]
  },
  {
   "cell_type": "markdown",
   "metadata": {
    "id": "PGHYXl4OVrr7"
   },
   "source": [
    "### Define an evaluation prompt to evaluate a language model"
   ]
  },
  {
   "cell_type": "markdown",
   "metadata": {
    "id": "cAw_ekTmV0YO"
   },
   "source": [
    "The grade_model_answer function utilizes the langchain library to create an evaluation workflow. It harnesses a deterministic GPT-3.5 model as a judge to assess language model outputs against a set of questions. This model-based evaluation method is efficient, reducing reliance on human judgment while maintaining effectiveness."
   ]
  },
  {
   "cell_type": "code",
   "execution_count": null,
   "metadata": {
    "id": "VC7II7PHcu9e"
   },
   "outputs": [],
   "source": [
    "EVALUATION_PROMPT = PromptTemplate.from_template(\"\"\"\n",
    "You are an assistant assessing a code snippet generated by an LLM, relative to the true answer based on the provided criteria:\n",
    "\n",
    "    QUERY: {query}\n",
    "\n",
    "    GENERATED CODE (RESULT): {result}\n",
    "\n",
    "    TRUE ANSWER (ANSWER): {answer}\n",
    "\n",
    "    Criteria:\n",
    "      relevance:  Is the generated code correct based on your knowledge?\"\n",
    "      conciseness:  Is the answer concise and to the point?\"\n",
    "      correct: Is the answer correct?\"\n",
    "\n",
    "    Does the submission meet the criterion? First, write out in a step by step manner your reasoning about the criterion to be sure that your conclusion is correct. Avoid simply stating the correct answers at the outset. Then print the \"CORRECT\" or \"INCORRECT\" (without quotes or punctuation) on its own line corresponding to the correct answer.\n",
    "\n",
    "\"\"\")"
   ]
  },
  {
   "cell_type": "code",
   "execution_count": null,
   "metadata": {
    "colab": {
     "base_uri": "https://localhost:8080/"
    },
    "id": "zmO_HL8kV0f9",
    "outputId": "d83157ed-4e23-48e6-d592-e3c7d493de68"
   },
   "outputs": [],
   "source": [
    "try:\n",
    "    # openai_apikey\n",
    "    LLM = ChatOpenAI(model_name=\"gpt-3.5-turbo\", temperature=0, openai_api_key=userdata.get('OPENAI_API_KEY'))\n",
    "except NameError:\n",
    "    raise ValueError(\"This section requires OpenAI\")\n",
    "\n",
    "def grade_model_answer(predicted_dataset, predictions):\n",
    "\n",
    "    # Create an evaluation chain\n",
    "    eval_chain = QAEvalChain.from_llm(\n",
    "        llm=LLM,\n",
    "        prompt=EVALUATION_PROMPT\n",
    "    )\n",
    "\n",
    "    # Evaluate the predictions and ground truth using the evaluation chain\n",
    "    graded_outputs = eval_chain.evaluate(\n",
    "        predicted_dataset,\n",
    "        predictions,\n",
    "        question_key=\"question\",\n",
    "        prediction_key=\"result\"\n",
    "    )\n",
    "\n",
    "    return graded_outputs"
   ]
  },
  {
   "cell_type": "code",
   "execution_count": null,
   "metadata": {
    "id": "8e99ZWiAdJZg"
   },
   "outputs": [],
   "source": [
    "code = \"\"\"[a * 10 for a in range(10)]\"\"\"\n",
    "OPENSOURCE_PROMPT = f\"I need you to give me a step-by-step breakdown of what this code does: {code}\"\n",
    "\n",
    "answer = \"\"\"1. The code starts with a list comprehension, denoted by the square brackets `[ ]`, which allows for concise creation of a new list based on an existing list or range.\n",
    "2. It uses the `range()` function with an argument of `10` to generate a sequence of numbers from `0` to `9`, inclusive. This sequence is represented as an iterable.\n",
    "3. For each element `a` in this sequence, the code executes the following steps.\n",
    "4. Multiplies the current value of `a` by `10`, resulting in a new value.\n",
    "5. Stores this new value in the new list.\n",
    "6. Once all elements have been processed and the new list is complete, it is returned as the output of the list comprehension.\n",
    "\n",
    "In simpler terms, the code generates a new list by multiplying each number from `0` to `9` by `10`. The resulting list will have the values `[0, 10, 20, 30, 40, 50, 60, 70, 80, 90]`.\n",
    "\"\"\"\n",
    "\n",
    "result = \"\"\"This code is a list comprehension in Python. It's a compact way of creating a list in Python.\n",
    "\n",
    "Here's a step-by-step breakdown:\n",
    "\n",
    "1. `a * 10`: This is the operation being performed on each element in the range. In this case, it's multiplying each number in the range by 10.\n",
    "\n",
    "2. `for a in range(10)`: This is the loop that's going through each number in the range from 0 to 9. `range(10)` generates a sequence of numbers from 0 to 9.\n",
    "\n",
    "3. `[a * 10 for a in range(10)]`: This is the list comprehension itself. It's a compact way of creating a new list by performing an operation on each element in a sequence. In this case, it's creating a new list where each element is the result of multiplying the corresponding element in the original sequence by 10.\n",
    "\n",
    "So, the whole expression `[a * 10 for a in range(10)]` is equivalent to `[0, 10, 20, 30, 40, 50, 60, 70, 80, 90]`.\n",
    "\n",
    "\"\"\"\n",
    "\n",
    "predicted_dataset = [\n",
    "    {\n",
    "        \"question\": OPENSOURCE_PROMPT,\n",
    "        \"answer\": answer\n",
    "    }\n",
    "]\n",
    "\n",
    "predictions = [\n",
    "    {\n",
    "        \"result\": result\n",
    "    }\n",
    "]"
   ]
  },
  {
   "cell_type": "code",
   "execution_count": null,
   "metadata": {
    "colab": {
     "base_uri": "https://localhost:8080/"
    },
    "id": "-_DkedVCCH8X",
    "outputId": "790ea232-aa0b-42bd-8f6f-7fc073b9b481"
   },
   "outputs": [],
   "source": [
    "grade_model_answer(predicted_dataset, predictions)"
   ]
  },
  {
   "cell_type": "markdown",
   "metadata": {
    "id": "D_2Wc3qkSF47"
   },
   "source": [
    "\n",
    "### Insights from Model-based Evaluation\n",
    "The insights table summarizes the benefits and considerations observed from using model-based evaluation. Key points include:\n",
    "\n",
    "\n",
    "| Insight                        | Description                                                                                          |\n",
    "|--------------------------------|------------------------------------------------------------------------------------------------------|\n",
    "| LLM-as-a-Judge Efficiency      | Utilizing LLMs as judges is nearly as effective as human evaluations.                                |\n",
    "| Cost Efficiency with GPT-3.5   | GPT-3.5 has been shown to be a cost-effective alternative for judging model output.                  |\n",
    "| Grading Scale Precision        | Lower-precision grading scales tend to be more beneficial for consistency and interpretation.        |\n",
    "| Specific Benchmarks for RAG    | It's important to use relevant benchmarks when evaluating models for RAG applications.               |\n",
    "\n",
    "\n"
   ]
  },
  {
   "cell_type": "markdown",
   "metadata": {
    "id": "FBQr4-bd9Nwi"
   },
   "source": [
    "## Part 6: Bring it all together\n",
    "\n",
    "In this section you will bring together the results of the previous parts in to single dataset."
   ]
  },
  {
   "cell_type": "code",
   "outputs": [],
   "source": [
    "def opensource_infer(code):\n",
    "    return \"what\""
   ],
   "metadata": {
    "collapsed": false,
    "ExecuteTime": {
     "end_time": "2024-01-27T21:24:38.467871500Z",
     "start_time": "2024-01-27T21:24:38.457401374Z"
    }
   },
   "execution_count": 73
  },
  {
   "cell_type": "code",
   "outputs": [],
   "source": [
    "from pandas import DataFrame\n",
    "\n",
    "def evaluate_generated_dataset(sample):\n",
    "    \"\"\" Evaluate the dataset for toxicity \"\"\"\n",
    "    # TODO: CODE HERE\n",
    "    # 1. get code out of the sample\n",
    "    code = sample\n",
    "    # 2. call the evaluation functions\n",
    "    # Sgpt35_explanation = openai_infer(code)\n",
    "    opensource_explanation = opensource_infer(code)\n",
    "    # 3. log the metrics to a dataframe\n",
    "    # gpt35_metrics = compute_text_metrics(gpt35_explanation)\n",
    "    opensource_metrics = compute_text_metrics(opensource_explanation)\n",
    "    # 4. add more metrics if you wish\n",
    "    # 5. create a dictionary of results to return\n",
    "    return {\n",
    "        \"opensource_explanation\" : opensource_metrics,\n",
    "        #\"gpt3.5_explanation\" : \"\"\n",
    "    }"
   ],
   "metadata": {
    "id": "IF48t4EC9N42",
    "ExecuteTime": {
     "end_time": "2024-01-27T21:24:40.125630463Z",
     "start_time": "2024-01-27T21:24:40.120323735Z"
    }
   },
   "execution_count": 74
  },
  {
   "cell_type": "code",
   "execution_count": 42,
   "metadata": {
    "id": "3Xf54z_NFOTh",
    "ExecuteTime": {
     "end_time": "2024-01-27T21:03:41.329630478Z",
     "start_time": "2024-01-27T21:03:41.308357259Z"
    }
   },
   "outputs": [],
   "source": [
    "# test the function above\n",
    "\n",
    "from datasets import load_dataset\n",
    "\n"
   ]
  },
  {
   "cell_type": "code",
   "outputs": [],
   "source": [
    "ds = load_dataset(\"codeparrot/github-code\", streaming=True, split=\"train\", trust_remote_code=True)"
   ],
   "metadata": {
    "collapsed": false,
    "ExecuteTime": {
     "end_time": "2024-01-27T21:03:45.565018481Z",
     "start_time": "2024-01-27T21:03:43.804281117Z"
    }
   },
   "execution_count": 43
  },
  {
   "cell_type": "code",
   "outputs": [],
   "source": [
    "evaluated_dataset = ds.take(50).map(evaluate_generated_dataset, input_columns=\"code\")"
   ],
   "metadata": {
    "collapsed": false,
    "ExecuteTime": {
     "end_time": "2024-01-27T21:24:43.656295763Z",
     "start_time": "2024-01-27T21:24:43.652623209Z"
    }
   },
   "execution_count": 75
  },
  {
   "cell_type": "code",
   "outputs": [
    {
     "name": "stdout",
     "output_type": "stream",
     "text": [
      "{'code': '\\'use strict\\';\\n\\nvar clear          = require(\\'es5-ext/array/#/clear\\')\\n  , eIndexOf       = require(\\'es5-ext/array/#/e-index-of\\')\\n  , setPrototypeOf = require(\\'es5-ext/object/set-prototype-of\\')\\n  , callable       = require(\\'es5-ext/object/valid-callable\\')\\n  , d              = require(\\'d\\')\\n  , ee             = require(\\'event-emitter\\')\\n  , Symbol         = require(\\'es6-symbol\\')\\n  , iterator       = require(\\'es6-iterator/valid-iterable\\')\\n  , forOf          = require(\\'es6-iterator/for-of\\')\\n  , Iterator       = require(\\'./lib/iterator\\')\\n  , isNative       = require(\\'./is-native-implemented\\')\\n\\n  , call = Function.prototype.call, defineProperty = Object.defineProperty\\n  , SetPoly, getValues;\\n\\nmodule.exports = SetPoly = function (/*iterable*/) {\\n\\tvar iterable = arguments[0];\\n\\tif (!(this instanceof SetPoly)) return new SetPoly(iterable);\\n\\tif (this.__setData__ !== undefined) {\\n\\t\\tthrow new TypeError(this + \" cannot be reinitialized\");\\n\\t}\\n\\tif (iterable != null) iterator(iterable);\\n\\tdefineProperty(this, \\'__setData__\\', d(\\'c\\', []));\\n\\tif (!iterable) return;\\n\\tforOf(iterable, function (value) {\\n\\t\\tif (eIndexOf.call(this, value) !== -1) return;\\n\\t\\tthis.push(value);\\n\\t}, this.__setData__);\\n};\\n\\nif (isNative) {\\n\\tif (setPrototypeOf) setPrototypeOf(SetPoly, Set);\\n\\tSetPoly.prototype = Object.create(Set.prototype, {\\n\\t\\tconstructor: d(SetPoly)\\n\\t});\\n}\\n\\nee(Object.defineProperties(SetPoly.prototype, {\\n\\tadd: d(function (value) {\\n\\t\\tif (this.has(value)) return this;\\n\\t\\tthis.emit(\\'_add\\', this.__setData__.push(value) - 1, value);\\n\\t\\treturn this;\\n\\t}),\\n\\tclear: d(function () {\\n\\t\\tif (!this.__setData__.length) return;\\n\\t\\tclear.call(this.__setData__);\\n\\t\\tthis.emit(\\'_clear\\');\\n\\t}),\\n\\tdelete: d(function (value) {\\n\\t\\tvar index = eIndexOf.call(this.__setData__, value);\\n\\t\\tif (index === -1) return false;\\n\\t\\tthis.__setData__.splice(index, 1);\\n\\t\\tthis.emit(\\'_delete\\', index, value);\\n\\t\\treturn true;\\n\\t}),\\n\\tentries: d(function () { return new Iterator(this, \\'key+value\\'); }),\\n\\tforEach: d(function (cb/*, thisArg*/) {\\n\\t\\tvar thisArg = arguments[1], iterator, result, value;\\n\\t\\tcallable(cb);\\n\\t\\titerator = this.values();\\n\\t\\tresult = iterator._next();\\n\\t\\twhile (result !== undefined) {\\n\\t\\t\\tvalue = iterator._resolve(result);\\n\\t\\t\\tcall.call(cb, thisArg, value, value, this);\\n\\t\\t\\tresult = iterator._next();\\n\\t\\t}\\n\\t}),\\n\\thas: d(function (value) {\\n\\t\\treturn (eIndexOf.call(this.__setData__, value) !== -1);\\n\\t}),\\n\\tkeys: d(getValues = function () { return this.values(); }),\\n\\tsize: d.gs(function () { return this.__setData__.length; }),\\n\\tvalues: d(function () { return new Iterator(this); }),\\n\\ttoString: d(function () { return \\'[object Set]\\'; })\\n}));\\ndefineProperty(SetPoly.prototype, Symbol.iterator, d(getValues));\\ndefineProperty(SetPoly.prototype, Symbol.toStringTag, d(\\'c\\', \\'Set\\'));\\n', 'repo_name': 'Socratacom/socrata-europe', 'path': 'wp-content/themes/sage/node_modules/asset-builder/node_modules/main-bower-files/node_modules/vinyl-fs/node_modules/glob-stream/node_modules/unique-stream/node_modules/es6-set/polyfill.js', 'language': 'JavaScript', 'license': 'gpl-2.0', 'size': 2730, 'opensource_explanation': {'text': 'what', 'entropy': 0.014585849467368682, 'perplexity': 1.0146927420437437, 'per_word_perplexity': 1.0146927420437437, 'first_order_coherence': nan, 'second_order_coherence': nan, 'token_length_mean': 4.0, 'token_length_median': 4.0, 'token_length_std': 0.0, 'sentence_length_mean': 1.0, 'sentence_length_median': 1.0, 'sentence_length_std': 0.0, 'syllables_per_token_mean': 1.0, 'syllables_per_token_median': 1.0, 'syllables_per_token_std': 0.0, 'n_tokens': 1, 'n_unique_tokens': 1, 'proportion_unique_tokens': 1.0, 'n_characters': 4, 'n_sentences': 1, 'flesch_reading_ease': 121.22000000000003, 'flesch_kincaid_grade': -3.3999999999999986, 'smog': nan, 'gunning_fog': 0.4, 'automated_readability_index': -2.09, 'coleman_liau_index': -21.88, 'lix': 1.0, 'rix': 0.0, 'dependency_distance_mean': 0.0, 'dependency_distance_std': 0.0, 'prop_adjacent_dependency_relation_mean': 0.0, 'prop_adjacent_dependency_relation_std': 0.0, 'passed_quality_check': False, 'n_stop_words': 1.0, 'alpha_ratio': 1.0, 'mean_word_length': 4.0, 'doc_length': 1.0, 'symbol_to_word_ratio_#': 0.0, 'proportion_ellipsis': 0.0, 'proportion_bullet_points': 0.0, 'contains_lorem ipsum': 0.0, 'duplicate_line_chr_fraction': 0.0, 'duplicate_paragraph_chr_fraction': 0.0, 'duplicate_ngram_chr_fraction_5': 0.0, 'duplicate_ngram_chr_fraction_6': 0.0, 'duplicate_ngram_chr_fraction_7': 0.0, 'duplicate_ngram_chr_fraction_8': 0.0, 'duplicate_ngram_chr_fraction_9': 0.0, 'duplicate_ngram_chr_fraction_10': 0.0, 'top_ngram_chr_fraction_2': 0.0, 'top_ngram_chr_fraction_3': 0.0, 'top_ngram_chr_fraction_4': 0.0, 'oov_ratio': None, 'pos_prop_ADJ': 0.0, 'pos_prop_ADP': 0.0, 'pos_prop_ADV': 0.0, 'pos_prop_AUX': 0.0, 'pos_prop_CCONJ': 0.0, 'pos_prop_DET': 0.0, 'pos_prop_INTJ': 0.0, 'pos_prop_NOUN': 0.0, 'pos_prop_NUM': 0.0, 'pos_prop_PART': 0.0, 'pos_prop_PRON': 1.0, 'pos_prop_PROPN': 0.0, 'pos_prop_PUNCT': 0.0, 'pos_prop_SCONJ': 0.0, 'pos_prop_SYM': 0.0, 'pos_prop_VERB': 0.0, 'pos_prop_X': 0.0}}\n"
     ]
    }
   ],
   "source": [
    "for example in evaluated_dataset.take(1):\n",
    "    print(example)\n",
    "    break"
   ],
   "metadata": {
    "collapsed": false,
    "ExecuteTime": {
     "end_time": "2024-01-27T21:24:52.685219953Z",
     "start_time": "2024-01-27T21:24:45.070829082Z"
    }
   },
   "execution_count": 76
  },
  {
   "cell_type": "markdown",
   "metadata": {
    "id": "f6fGJTTeJFdR"
   },
   "source": [
    "# The End 💐\n",
    "\n",
    "That's all for this project. Well done on getting so far.\n",
    "\n",
    "If you have any time left, I would encourage you to experiment with the code in this notebook and see if you can expand on the evaluation here."
   ]
  }
 ],
 "metadata": {
  "accelerator": "GPU",
  "colab": {
   "gpuType": "T4",
   "include_colab_link": true,
   "machine_shape": "hm",
   "provenance": []
  },
  "kernelspec": {
   "display_name": "openllms-env",
   "language": "python",
   "name": "openllms-env"
  },
  "language_info": {
   "codemirror_mode": {
    "name": "ipython",
    "version": 3
   },
   "file_extension": ".py",
   "mimetype": "text/x-python",
   "name": "python",
   "nbconvert_exporter": "python",
   "pygments_lexer": "ipython3",
   "version": "3.10.12"
  },
  "widgets": {
   "application/vnd.jupyter.widget-state+json": {
    "02ae9f7781444a0ca4793a6f4009e34a": {
     "model_module": "@jupyter-widgets/controls",
     "model_module_version": "1.5.0",
     "model_name": "HTMLModel",
     "state": {
      "_dom_classes": [],
      "_model_module": "@jupyter-widgets/controls",
      "_model_module_version": "1.5.0",
      "_model_name": "HTMLModel",
      "_view_count": null,
      "_view_module": "@jupyter-widgets/controls",
      "_view_module_version": "1.5.0",
      "_view_name": "HTMLView",
      "description": "",
      "description_tooltip": null,
      "layout": "IPY_MODEL_dfffa4a652f44c2ba8a6c08ac0e5700a",
      "placeholder": "​",
      "style": "IPY_MODEL_8e57ee275866479784a2a28d8e002ec5",
      "value": " 456k/456k [00:00&lt;00:00, 782kB/s]"
     }
    },
    "092dabc68fb74d11bb0c77e18592a933": {
     "model_module": "@jupyter-widgets/controls",
     "model_module_version": "1.5.0",
     "model_name": "ProgressStyleModel",
     "state": {
      "_model_module": "@jupyter-widgets/controls",
      "_model_module_version": "1.5.0",
      "_model_name": "ProgressStyleModel",
      "_view_count": null,
      "_view_module": "@jupyter-widgets/base",
      "_view_module_version": "1.2.0",
      "_view_name": "StyleView",
      "bar_color": null,
      "description_width": ""
     }
    },
    "0cb05ddedca94c328def092bd29b7d63": {
     "model_module": "@jupyter-widgets/controls",
     "model_module_version": "1.5.0",
     "model_name": "HTMLModel",
     "state": {
      "_dom_classes": [],
      "_model_module": "@jupyter-widgets/controls",
      "_model_module_version": "1.5.0",
      "_model_name": "HTMLModel",
      "_view_count": null,
      "_view_module": "@jupyter-widgets/controls",
      "_view_module_version": "1.5.0",
      "_view_name": "HTMLView",
      "description": "",
      "description_tooltip": null,
      "layout": "IPY_MODEL_aafd19830dd349cd8e99544cf981d0e2",
      "placeholder": "​",
      "style": "IPY_MODEL_f26c7552179842efaf013c9388b053e2",
      "value": " 6.08k/6.08k [00:00&lt;00:00, 277kB/s]"
     }
    },
    "1551be129e804b07b944cc3ce05e3c06": {
     "model_module": "@jupyter-widgets/controls",
     "model_module_version": "1.5.0",
     "model_name": "DescriptionStyleModel",
     "state": {
      "_model_module": "@jupyter-widgets/controls",
      "_model_module_version": "1.5.0",
      "_model_name": "DescriptionStyleModel",
      "_view_count": null,
      "_view_module": "@jupyter-widgets/base",
      "_view_module_version": "1.2.0",
      "_view_name": "StyleView",
      "description_width": ""
     }
    },
    "1acacc7eb35e4de79e1ce5e97526b66e": {
     "model_module": "@jupyter-widgets/base",
     "model_module_version": "1.2.0",
     "model_name": "LayoutModel",
     "state": {
      "_model_module": "@jupyter-widgets/base",
      "_model_module_version": "1.2.0",
      "_model_name": "LayoutModel",
      "_view_count": null,
      "_view_module": "@jupyter-widgets/base",
      "_view_module_version": "1.2.0",
      "_view_name": "LayoutView",
      "align_content": null,
      "align_items": null,
      "align_self": null,
      "border": null,
      "bottom": null,
      "display": null,
      "flex": null,
      "flex_flow": null,
      "grid_area": null,
      "grid_auto_columns": null,
      "grid_auto_flow": null,
      "grid_auto_rows": null,
      "grid_column": null,
      "grid_gap": null,
      "grid_row": null,
      "grid_template_areas": null,
      "grid_template_columns": null,
      "grid_template_rows": null,
      "height": null,
      "justify_content": null,
      "justify_items": null,
      "left": null,
      "margin": null,
      "max_height": null,
      "max_width": null,
      "min_height": null,
      "min_width": null,
      "object_fit": null,
      "object_position": null,
      "order": null,
      "overflow": null,
      "overflow_x": null,
      "overflow_y": null,
      "padding": null,
      "right": null,
      "top": null,
      "visibility": null,
      "width": null
     }
    },
    "1dd0f605fe764fb1ba492b4e79844913": {
     "model_module": "@jupyter-widgets/controls",
     "model_module_version": "1.5.0",
     "model_name": "HBoxModel",
     "state": {
      "_dom_classes": [],
      "_model_module": "@jupyter-widgets/controls",
      "_model_module_version": "1.5.0",
      "_model_name": "HBoxModel",
      "_view_count": null,
      "_view_module": "@jupyter-widgets/controls",
      "_view_module_version": "1.5.0",
      "_view_name": "HBoxView",
      "box_style": "",
      "children": [
       "IPY_MODEL_c094801589734ecc87fa1b8e7da0e872",
       "IPY_MODEL_b260f75f97004682923901e54a251672",
       "IPY_MODEL_f6c8b0f7334d45608f657ed07e23c9f1"
      ],
      "layout": "IPY_MODEL_b0d48599f920487e9fad10e2d09bba0d"
     }
    },
    "20827696dd1d49a296f8e40494927136": {
     "model_module": "@jupyter-widgets/base",
     "model_module_version": "1.2.0",
     "model_name": "LayoutModel",
     "state": {
      "_model_module": "@jupyter-widgets/base",
      "_model_module_version": "1.2.0",
      "_model_name": "LayoutModel",
      "_view_count": null,
      "_view_module": "@jupyter-widgets/base",
      "_view_module_version": "1.2.0",
      "_view_name": "LayoutView",
      "align_content": null,
      "align_items": null,
      "align_self": null,
      "border": null,
      "bottom": null,
      "display": null,
      "flex": null,
      "flex_flow": null,
      "grid_area": null,
      "grid_auto_columns": null,
      "grid_auto_flow": null,
      "grid_auto_rows": null,
      "grid_column": null,
      "grid_gap": null,
      "grid_row": null,
      "grid_template_areas": null,
      "grid_template_columns": null,
      "grid_template_rows": null,
      "height": null,
      "justify_content": null,
      "justify_items": null,
      "left": null,
      "margin": null,
      "max_height": null,
      "max_width": null,
      "min_height": null,
      "min_width": null,
      "object_fit": null,
      "object_position": null,
      "order": null,
      "overflow": null,
      "overflow_x": null,
      "overflow_y": null,
      "padding": null,
      "right": null,
      "top": null,
      "visibility": null,
      "width": null
     }
    },
    "2180c20887a84ef8a2b7c6f456362227": {
     "model_module": "@jupyter-widgets/controls",
     "model_module_version": "1.5.0",
     "model_name": "HBoxModel",
     "state": {
      "_dom_classes": [],
      "_model_module": "@jupyter-widgets/controls",
      "_model_module_version": "1.5.0",
      "_model_name": "HBoxModel",
      "_view_count": null,
      "_view_module": "@jupyter-widgets/controls",
      "_view_module_version": "1.5.0",
      "_view_name": "HBoxView",
      "box_style": "",
      "children": [
       "IPY_MODEL_e95887ce038a4deab2f737dabf9417e4",
       "IPY_MODEL_3ae8cec80c5e460f9e26a3fb9082d3a5",
       "IPY_MODEL_9d763230007b4bbb8b442c7f3be7165d"
      ],
      "layout": "IPY_MODEL_65ac2f9b72a54f4ca8784e0d2eefbf06"
     }
    },
    "23d4c2b588924b6c84c097ce63c152bd": {
     "model_module": "@jupyter-widgets/controls",
     "model_module_version": "1.5.0",
     "model_name": "ProgressStyleModel",
     "state": {
      "_model_module": "@jupyter-widgets/controls",
      "_model_module_version": "1.5.0",
      "_model_name": "ProgressStyleModel",
      "_view_count": null,
      "_view_module": "@jupyter-widgets/base",
      "_view_module_version": "1.2.0",
      "_view_name": "StyleView",
      "bar_color": null,
      "description_width": ""
     }
    },
    "25288603a66e435ea81f522fd6e4b855": {
     "model_module": "@jupyter-widgets/base",
     "model_module_version": "1.2.0",
     "model_name": "LayoutModel",
     "state": {
      "_model_module": "@jupyter-widgets/base",
      "_model_module_version": "1.2.0",
      "_model_name": "LayoutModel",
      "_view_count": null,
      "_view_module": "@jupyter-widgets/base",
      "_view_module_version": "1.2.0",
      "_view_name": "LayoutView",
      "align_content": null,
      "align_items": null,
      "align_self": null,
      "border": null,
      "bottom": null,
      "display": null,
      "flex": null,
      "flex_flow": null,
      "grid_area": null,
      "grid_auto_columns": null,
      "grid_auto_flow": null,
      "grid_auto_rows": null,
      "grid_column": null,
      "grid_gap": null,
      "grid_row": null,
      "grid_template_areas": null,
      "grid_template_columns": null,
      "grid_template_rows": null,
      "height": null,
      "justify_content": null,
      "justify_items": null,
      "left": null,
      "margin": null,
      "max_height": null,
      "max_width": null,
      "min_height": null,
      "min_width": null,
      "object_fit": null,
      "object_position": null,
      "order": null,
      "overflow": null,
      "overflow_x": null,
      "overflow_y": null,
      "padding": null,
      "right": null,
      "top": null,
      "visibility": null,
      "width": null
     }
    },
    "2c23e08fb7704c6e885fe1c5f5af404e": {
     "model_module": "@jupyter-widgets/base",
     "model_module_version": "1.2.0",
     "model_name": "LayoutModel",
     "state": {
      "_model_module": "@jupyter-widgets/base",
      "_model_module_version": "1.2.0",
      "_model_name": "LayoutModel",
      "_view_count": null,
      "_view_module": "@jupyter-widgets/base",
      "_view_module_version": "1.2.0",
      "_view_name": "LayoutView",
      "align_content": null,
      "align_items": null,
      "align_self": null,
      "border": null,
      "bottom": null,
      "display": null,
      "flex": null,
      "flex_flow": null,
      "grid_area": null,
      "grid_auto_columns": null,
      "grid_auto_flow": null,
      "grid_auto_rows": null,
      "grid_column": null,
      "grid_gap": null,
      "grid_row": null,
      "grid_template_areas": null,
      "grid_template_columns": null,
      "grid_template_rows": null,
      "height": null,
      "justify_content": null,
      "justify_items": null,
      "left": null,
      "margin": null,
      "max_height": null,
      "max_width": null,
      "min_height": null,
      "min_width": null,
      "object_fit": null,
      "object_position": null,
      "order": null,
      "overflow": null,
      "overflow_x": null,
      "overflow_y": null,
      "padding": null,
      "right": null,
      "top": null,
      "visibility": null,
      "width": null
     }
    },
    "2c554ad617914844902bd3c08bd5218a": {
     "model_module": "@jupyter-widgets/base",
     "model_module_version": "1.2.0",
     "model_name": "LayoutModel",
     "state": {
      "_model_module": "@jupyter-widgets/base",
      "_model_module_version": "1.2.0",
      "_model_name": "LayoutModel",
      "_view_count": null,
      "_view_module": "@jupyter-widgets/base",
      "_view_module_version": "1.2.0",
      "_view_name": "LayoutView",
      "align_content": null,
      "align_items": null,
      "align_self": null,
      "border": null,
      "bottom": null,
      "display": null,
      "flex": null,
      "flex_flow": null,
      "grid_area": null,
      "grid_auto_columns": null,
      "grid_auto_flow": null,
      "grid_auto_rows": null,
      "grid_column": null,
      "grid_gap": null,
      "grid_row": null,
      "grid_template_areas": null,
      "grid_template_columns": null,
      "grid_template_rows": null,
      "height": null,
      "justify_content": null,
      "justify_items": null,
      "left": null,
      "margin": null,
      "max_height": null,
      "max_width": null,
      "min_height": null,
      "min_width": null,
      "object_fit": null,
      "object_position": null,
      "order": null,
      "overflow": null,
      "overflow_x": null,
      "overflow_y": null,
      "padding": null,
      "right": null,
      "top": null,
      "visibility": null,
      "width": null
     }
    },
    "2efcd18eb5964db887521dc9725d0ade": {
     "model_module": "@jupyter-widgets/controls",
     "model_module_version": "1.5.0",
     "model_name": "FloatProgressModel",
     "state": {
      "_dom_classes": [],
      "_model_module": "@jupyter-widgets/controls",
      "_model_module_version": "1.5.0",
      "_model_name": "FloatProgressModel",
      "_view_count": null,
      "_view_module": "@jupyter-widgets/controls",
      "_view_module_version": "1.5.0",
      "_view_name": "ProgressView",
      "bar_style": "success",
      "description": "",
      "description_tooltip": null,
      "layout": "IPY_MODEL_59936b971b3e48569b75a048468c2ef4",
      "max": 898822,
      "min": 0,
      "orientation": "horizontal",
      "style": "IPY_MODEL_d472d4b60b004428b40ce1eca01eb996",
      "value": 898822
     }
    },
    "321a258f11864d62b01a15579a1dd6da": {
     "model_module": "@jupyter-widgets/controls",
     "model_module_version": "1.5.0",
     "model_name": "DescriptionStyleModel",
     "state": {
      "_model_module": "@jupyter-widgets/controls",
      "_model_module_version": "1.5.0",
      "_model_name": "DescriptionStyleModel",
      "_view_count": null,
      "_view_module": "@jupyter-widgets/base",
      "_view_module_version": "1.2.0",
      "_view_name": "StyleView",
      "description_width": ""
     }
    },
    "36dda69edd924b7e8886680697cf0b9f": {
     "model_module": "@jupyter-widgets/base",
     "model_module_version": "1.2.0",
     "model_name": "LayoutModel",
     "state": {
      "_model_module": "@jupyter-widgets/base",
      "_model_module_version": "1.2.0",
      "_model_name": "LayoutModel",
      "_view_count": null,
      "_view_module": "@jupyter-widgets/base",
      "_view_module_version": "1.2.0",
      "_view_name": "LayoutView",
      "align_content": null,
      "align_items": null,
      "align_self": null,
      "border": null,
      "bottom": null,
      "display": null,
      "flex": null,
      "flex_flow": null,
      "grid_area": null,
      "grid_auto_columns": null,
      "grid_auto_flow": null,
      "grid_auto_rows": null,
      "grid_column": null,
      "grid_gap": null,
      "grid_row": null,
      "grid_template_areas": null,
      "grid_template_columns": null,
      "grid_template_rows": null,
      "height": null,
      "justify_content": null,
      "justify_items": null,
      "left": null,
      "margin": null,
      "max_height": null,
      "max_width": null,
      "min_height": null,
      "min_width": null,
      "object_fit": null,
      "object_position": null,
      "order": null,
      "overflow": null,
      "overflow_x": null,
      "overflow_y": null,
      "padding": null,
      "right": null,
      "top": null,
      "visibility": null,
      "width": null
     }
    },
    "36f7e887803c42019e10ab15a5b220d3": {
     "model_module": "@jupyter-widgets/base",
     "model_module_version": "1.2.0",
     "model_name": "LayoutModel",
     "state": {
      "_model_module": "@jupyter-widgets/base",
      "_model_module_version": "1.2.0",
      "_model_name": "LayoutModel",
      "_view_count": null,
      "_view_module": "@jupyter-widgets/base",
      "_view_module_version": "1.2.0",
      "_view_name": "LayoutView",
      "align_content": null,
      "align_items": null,
      "align_self": null,
      "border": null,
      "bottom": null,
      "display": null,
      "flex": null,
      "flex_flow": null,
      "grid_area": null,
      "grid_auto_columns": null,
      "grid_auto_flow": null,
      "grid_auto_rows": null,
      "grid_column": null,
      "grid_gap": null,
      "grid_row": null,
      "grid_template_areas": null,
      "grid_template_columns": null,
      "grid_template_rows": null,
      "height": null,
      "justify_content": null,
      "justify_items": null,
      "left": null,
      "margin": null,
      "max_height": null,
      "max_width": null,
      "min_height": null,
      "min_width": null,
      "object_fit": null,
      "object_position": null,
      "order": null,
      "overflow": null,
      "overflow_x": null,
      "overflow_y": null,
      "padding": null,
      "right": null,
      "top": null,
      "visibility": null,
      "width": null
     }
    },
    "37d0ded4866b4aeda394fdab588aeab0": {
     "model_module": "@jupyter-widgets/base",
     "model_module_version": "1.2.0",
     "model_name": "LayoutModel",
     "state": {
      "_model_module": "@jupyter-widgets/base",
      "_model_module_version": "1.2.0",
      "_model_name": "LayoutModel",
      "_view_count": null,
      "_view_module": "@jupyter-widgets/base",
      "_view_module_version": "1.2.0",
      "_view_name": "LayoutView",
      "align_content": null,
      "align_items": null,
      "align_self": null,
      "border": null,
      "bottom": null,
      "display": null,
      "flex": null,
      "flex_flow": null,
      "grid_area": null,
      "grid_auto_columns": null,
      "grid_auto_flow": null,
      "grid_auto_rows": null,
      "grid_column": null,
      "grid_gap": null,
      "grid_row": null,
      "grid_template_areas": null,
      "grid_template_columns": null,
      "grid_template_rows": null,
      "height": null,
      "justify_content": null,
      "justify_items": null,
      "left": null,
      "margin": null,
      "max_height": null,
      "max_width": null,
      "min_height": null,
      "min_width": null,
      "object_fit": null,
      "object_position": null,
      "order": null,
      "overflow": null,
      "overflow_x": null,
      "overflow_y": null,
      "padding": null,
      "right": null,
      "top": null,
      "visibility": null,
      "width": null
     }
    },
    "3a0b0a3b4a1843b28813eb40feaf85d7": {
     "model_module": "@jupyter-widgets/controls",
     "model_module_version": "1.5.0",
     "model_name": "DescriptionStyleModel",
     "state": {
      "_model_module": "@jupyter-widgets/controls",
      "_model_module_version": "1.5.0",
      "_model_name": "DescriptionStyleModel",
      "_view_count": null,
      "_view_module": "@jupyter-widgets/base",
      "_view_module_version": "1.2.0",
      "_view_name": "StyleView",
      "description_width": ""
     }
    },
    "3ae8cec80c5e460f9e26a3fb9082d3a5": {
     "model_module": "@jupyter-widgets/controls",
     "model_module_version": "1.5.0",
     "model_name": "FloatProgressModel",
     "state": {
      "_dom_classes": [],
      "_model_module": "@jupyter-widgets/controls",
      "_model_module_version": "1.5.0",
      "_model_name": "FloatProgressModel",
      "_view_count": null,
      "_view_module": "@jupyter-widgets/controls",
      "_view_module_version": "1.5.0",
      "_view_name": "ProgressView",
      "bar_style": "success",
      "description": "",
      "description_tooltip": null,
      "layout": "IPY_MODEL_2c554ad617914844902bd3c08bd5218a",
      "max": 239,
      "min": 0,
      "orientation": "horizontal",
      "style": "IPY_MODEL_403cf2416ef644919e6b029d3a65cfa6",
      "value": 239
     }
    },
    "3ea36d7af6254bb3ae57efb84ccbfd20": {
     "model_module": "@jupyter-widgets/controls",
     "model_module_version": "1.5.0",
     "model_name": "ProgressStyleModel",
     "state": {
      "_model_module": "@jupyter-widgets/controls",
      "_model_module_version": "1.5.0",
      "_model_name": "ProgressStyleModel",
      "_view_count": null,
      "_view_module": "@jupyter-widgets/base",
      "_view_module_version": "1.2.0",
      "_view_name": "StyleView",
      "bar_color": null,
      "description_width": ""
     }
    },
    "403cf2416ef644919e6b029d3a65cfa6": {
     "model_module": "@jupyter-widgets/controls",
     "model_module_version": "1.5.0",
     "model_name": "ProgressStyleModel",
     "state": {
      "_model_module": "@jupyter-widgets/controls",
      "_model_module_version": "1.5.0",
      "_model_name": "ProgressStyleModel",
      "_view_count": null,
      "_view_module": "@jupyter-widgets/base",
      "_view_module_version": "1.2.0",
      "_view_name": "StyleView",
      "bar_color": null,
      "description_width": ""
     }
    },
    "44671579c1894962a4ec567de79604a9": {
     "model_module": "@jupyter-widgets/controls",
     "model_module_version": "1.5.0",
     "model_name": "HTMLModel",
     "state": {
      "_dom_classes": [],
      "_model_module": "@jupyter-widgets/controls",
      "_model_module_version": "1.5.0",
      "_model_name": "HTMLModel",
      "_view_count": null,
      "_view_module": "@jupyter-widgets/controls",
      "_view_module_version": "1.5.0",
      "_view_name": "HTMLView",
      "description": "",
      "description_tooltip": null,
      "layout": "IPY_MODEL_47173b11b02a4a6b8d72cb30158537b2",
      "placeholder": "​",
      "style": "IPY_MODEL_1551be129e804b07b944cc3ce05e3c06",
      "value": "generation_config.json: 100%"
     }
    },
    "46b1299515064d8bb6e250abf80b6a03": {
     "model_module": "@jupyter-widgets/controls",
     "model_module_version": "1.5.0",
     "model_name": "FloatProgressModel",
     "state": {
      "_dom_classes": [],
      "_model_module": "@jupyter-widgets/controls",
      "_model_module_version": "1.5.0",
      "_model_name": "FloatProgressModel",
      "_view_count": null,
      "_view_module": "@jupyter-widgets/controls",
      "_view_module_version": "1.5.0",
      "_view_name": "ProgressView",
      "bar_style": "success",
      "description": "",
      "description_tooltip": null,
      "layout": "IPY_MODEL_c5209f5d49714dccbd5043735d4a2207",
      "max": 498617024,
      "min": 0,
      "orientation": "horizontal",
      "style": "IPY_MODEL_86052bcb4746467fa9a188fb32d37458",
      "value": 498617024
     }
    },
    "47173b11b02a4a6b8d72cb30158537b2": {
     "model_module": "@jupyter-widgets/base",
     "model_module_version": "1.2.0",
     "model_name": "LayoutModel",
     "state": {
      "_model_module": "@jupyter-widgets/base",
      "_model_module_version": "1.2.0",
      "_model_name": "LayoutModel",
      "_view_count": null,
      "_view_module": "@jupyter-widgets/base",
      "_view_module_version": "1.2.0",
      "_view_name": "LayoutView",
      "align_content": null,
      "align_items": null,
      "align_self": null,
      "border": null,
      "bottom": null,
      "display": null,
      "flex": null,
      "flex_flow": null,
      "grid_area": null,
      "grid_auto_columns": null,
      "grid_auto_flow": null,
      "grid_auto_rows": null,
      "grid_column": null,
      "grid_gap": null,
      "grid_row": null,
      "grid_template_areas": null,
      "grid_template_columns": null,
      "grid_template_rows": null,
      "height": null,
      "justify_content": null,
      "justify_items": null,
      "left": null,
      "margin": null,
      "max_height": null,
      "max_width": null,
      "min_height": null,
      "min_width": null,
      "object_fit": null,
      "object_position": null,
      "order": null,
      "overflow": null,
      "overflow_x": null,
      "overflow_y": null,
      "padding": null,
      "right": null,
      "top": null,
      "visibility": null,
      "width": null
     }
    },
    "4ba65c98dbde407b9f05380a6fc523ea": {
     "model_module": "@jupyter-widgets/base",
     "model_module_version": "1.2.0",
     "model_name": "LayoutModel",
     "state": {
      "_model_module": "@jupyter-widgets/base",
      "_model_module_version": "1.2.0",
      "_model_name": "LayoutModel",
      "_view_count": null,
      "_view_module": "@jupyter-widgets/base",
      "_view_module_version": "1.2.0",
      "_view_name": "LayoutView",
      "align_content": null,
      "align_items": null,
      "align_self": null,
      "border": null,
      "bottom": null,
      "display": null,
      "flex": null,
      "flex_flow": null,
      "grid_area": null,
      "grid_auto_columns": null,
      "grid_auto_flow": null,
      "grid_auto_rows": null,
      "grid_column": null,
      "grid_gap": null,
      "grid_row": null,
      "grid_template_areas": null,
      "grid_template_columns": null,
      "grid_template_rows": null,
      "height": null,
      "justify_content": null,
      "justify_items": null,
      "left": null,
      "margin": null,
      "max_height": null,
      "max_width": null,
      "min_height": null,
      "min_width": null,
      "object_fit": null,
      "object_position": null,
      "order": null,
      "overflow": null,
      "overflow_x": null,
      "overflow_y": null,
      "padding": null,
      "right": null,
      "top": null,
      "visibility": null,
      "width": null
     }
    },
    "4c49fb8c1bdd4b908623be47f66c3910": {
     "model_module": "@jupyter-widgets/controls",
     "model_module_version": "1.5.0",
     "model_name": "HBoxModel",
     "state": {
      "_dom_classes": [],
      "_model_module": "@jupyter-widgets/controls",
      "_model_module_version": "1.5.0",
      "_model_name": "HBoxModel",
      "_view_count": null,
      "_view_module": "@jupyter-widgets/controls",
      "_view_module_version": "1.5.0",
      "_view_name": "HBoxView",
      "box_style": "",
      "children": [
       "IPY_MODEL_b057a32e4453480eaab0145ff0868cbc",
       "IPY_MODEL_2efcd18eb5964db887521dc9725d0ade",
       "IPY_MODEL_9418c2ff01ee463db9170ec1d7290482"
      ],
      "layout": "IPY_MODEL_dfe536e985c94521982c6f7780cef4ce"
     }
    },
    "4e060a7ab8134c60a80b79ec2e3ca1bb": {
     "model_module": "@jupyter-widgets/base",
     "model_module_version": "1.2.0",
     "model_name": "LayoutModel",
     "state": {
      "_model_module": "@jupyter-widgets/base",
      "_model_module_version": "1.2.0",
      "_model_name": "LayoutModel",
      "_view_count": null,
      "_view_module": "@jupyter-widgets/base",
      "_view_module_version": "1.2.0",
      "_view_name": "LayoutView",
      "align_content": null,
      "align_items": null,
      "align_self": null,
      "border": null,
      "bottom": null,
      "display": null,
      "flex": null,
      "flex_flow": null,
      "grid_area": null,
      "grid_auto_columns": null,
      "grid_auto_flow": null,
      "grid_auto_rows": null,
      "grid_column": null,
      "grid_gap": null,
      "grid_row": null,
      "grid_template_areas": null,
      "grid_template_columns": null,
      "grid_template_rows": null,
      "height": null,
      "justify_content": null,
      "justify_items": null,
      "left": null,
      "margin": null,
      "max_height": null,
      "max_width": null,
      "min_height": null,
      "min_width": null,
      "object_fit": null,
      "object_position": null,
      "order": null,
      "overflow": null,
      "overflow_x": null,
      "overflow_y": null,
      "padding": null,
      "right": null,
      "top": null,
      "visibility": null,
      "width": null
     }
    },
    "59936b971b3e48569b75a048468c2ef4": {
     "model_module": "@jupyter-widgets/base",
     "model_module_version": "1.2.0",
     "model_name": "LayoutModel",
     "state": {
      "_model_module": "@jupyter-widgets/base",
      "_model_module_version": "1.2.0",
      "_model_name": "LayoutModel",
      "_view_count": null,
      "_view_module": "@jupyter-widgets/base",
      "_view_module_version": "1.2.0",
      "_view_name": "LayoutView",
      "align_content": null,
      "align_items": null,
      "align_self": null,
      "border": null,
      "bottom": null,
      "display": null,
      "flex": null,
      "flex_flow": null,
      "grid_area": null,
      "grid_auto_columns": null,
      "grid_auto_flow": null,
      "grid_auto_rows": null,
      "grid_column": null,
      "grid_gap": null,
      "grid_row": null,
      "grid_template_areas": null,
      "grid_template_columns": null,
      "grid_template_rows": null,
      "height": null,
      "justify_content": null,
      "justify_items": null,
      "left": null,
      "margin": null,
      "max_height": null,
      "max_width": null,
      "min_height": null,
      "min_width": null,
      "object_fit": null,
      "object_position": null,
      "order": null,
      "overflow": null,
      "overflow_x": null,
      "overflow_y": null,
      "padding": null,
      "right": null,
      "top": null,
      "visibility": null,
      "width": null
     }
    },
    "5b3281f60fc44348893a6650d15f1f30": {
     "model_module": "@jupyter-widgets/base",
     "model_module_version": "1.2.0",
     "model_name": "LayoutModel",
     "state": {
      "_model_module": "@jupyter-widgets/base",
      "_model_module_version": "1.2.0",
      "_model_name": "LayoutModel",
      "_view_count": null,
      "_view_module": "@jupyter-widgets/base",
      "_view_module_version": "1.2.0",
      "_view_name": "LayoutView",
      "align_content": null,
      "align_items": null,
      "align_self": null,
      "border": null,
      "bottom": null,
      "display": null,
      "flex": null,
      "flex_flow": null,
      "grid_area": null,
      "grid_auto_columns": null,
      "grid_auto_flow": null,
      "grid_auto_rows": null,
      "grid_column": null,
      "grid_gap": null,
      "grid_row": null,
      "grid_template_areas": null,
      "grid_template_columns": null,
      "grid_template_rows": null,
      "height": null,
      "justify_content": null,
      "justify_items": null,
      "left": null,
      "margin": null,
      "max_height": null,
      "max_width": null,
      "min_height": null,
      "min_width": null,
      "object_fit": null,
      "object_position": null,
      "order": null,
      "overflow": null,
      "overflow_x": null,
      "overflow_y": null,
      "padding": null,
      "right": null,
      "top": null,
      "visibility": null,
      "width": null
     }
    },
    "5bd145c841f24d72ba739e7ac404587f": {
     "model_module": "@jupyter-widgets/controls",
     "model_module_version": "1.5.0",
     "model_name": "ProgressStyleModel",
     "state": {
      "_model_module": "@jupyter-widgets/controls",
      "_model_module_version": "1.5.0",
      "_model_name": "ProgressStyleModel",
      "_view_count": null,
      "_view_module": "@jupyter-widgets/base",
      "_view_module_version": "1.2.0",
      "_view_name": "StyleView",
      "bar_color": null,
      "description_width": ""
     }
    },
    "628d07e826f24ce190959051801e847d": {
     "model_module": "@jupyter-widgets/controls",
     "model_module_version": "1.5.0",
     "model_name": "HTMLModel",
     "state": {
      "_dom_classes": [],
      "_model_module": "@jupyter-widgets/controls",
      "_model_module_version": "1.5.0",
      "_model_name": "HTMLModel",
      "_view_count": null,
      "_view_module": "@jupyter-widgets/controls",
      "_view_module_version": "1.5.0",
      "_view_name": "HTMLView",
      "description": "",
      "description_tooltip": null,
      "layout": "IPY_MODEL_8e4da054c92c416dbf9a0d1f12ff4881",
      "placeholder": "​",
      "style": "IPY_MODEL_7dc4107c2ff64ad3bb7ed51eaf6b727c",
      "value": " 1.11k/1.11k [00:00&lt;00:00, 82.5kB/s]"
     }
    },
    "65ac2f9b72a54f4ca8784e0d2eefbf06": {
     "model_module": "@jupyter-widgets/base",
     "model_module_version": "1.2.0",
     "model_name": "LayoutModel",
     "state": {
      "_model_module": "@jupyter-widgets/base",
      "_model_module_version": "1.2.0",
      "_model_name": "LayoutModel",
      "_view_count": null,
      "_view_module": "@jupyter-widgets/base",
      "_view_module_version": "1.2.0",
      "_view_name": "LayoutView",
      "align_content": null,
      "align_items": null,
      "align_self": null,
      "border": null,
      "bottom": null,
      "display": null,
      "flex": null,
      "flex_flow": null,
      "grid_area": null,
      "grid_auto_columns": null,
      "grid_auto_flow": null,
      "grid_auto_rows": null,
      "grid_column": null,
      "grid_gap": null,
      "grid_row": null,
      "grid_template_areas": null,
      "grid_template_columns": null,
      "grid_template_rows": null,
      "height": null,
      "justify_content": null,
      "justify_items": null,
      "left": null,
      "margin": null,
      "max_height": null,
      "max_width": null,
      "min_height": null,
      "min_width": null,
      "object_fit": null,
      "object_position": null,
      "order": null,
      "overflow": null,
      "overflow_x": null,
      "overflow_y": null,
      "padding": null,
      "right": null,
      "top": null,
      "visibility": null,
      "width": null
     }
    },
    "7097e122666942349fd6d220392cc2c7": {
     "model_module": "@jupyter-widgets/base",
     "model_module_version": "1.2.0",
     "model_name": "LayoutModel",
     "state": {
      "_model_module": "@jupyter-widgets/base",
      "_model_module_version": "1.2.0",
      "_model_name": "LayoutModel",
      "_view_count": null,
      "_view_module": "@jupyter-widgets/base",
      "_view_module_version": "1.2.0",
      "_view_name": "LayoutView",
      "align_content": null,
      "align_items": null,
      "align_self": null,
      "border": null,
      "bottom": null,
      "display": null,
      "flex": null,
      "flex_flow": null,
      "grid_area": null,
      "grid_auto_columns": null,
      "grid_auto_flow": null,
      "grid_auto_rows": null,
      "grid_column": null,
      "grid_gap": null,
      "grid_row": null,
      "grid_template_areas": null,
      "grid_template_columns": null,
      "grid_template_rows": null,
      "height": null,
      "justify_content": null,
      "justify_items": null,
      "left": null,
      "margin": null,
      "max_height": null,
      "max_width": null,
      "min_height": null,
      "min_width": null,
      "object_fit": null,
      "object_position": null,
      "order": null,
      "overflow": null,
      "overflow_x": null,
      "overflow_y": null,
      "padding": null,
      "right": null,
      "top": null,
      "visibility": null,
      "width": null
     }
    },
    "783c3a83a78544f9bac9ce280534f989": {
     "model_module": "@jupyter-widgets/base",
     "model_module_version": "1.2.0",
     "model_name": "LayoutModel",
     "state": {
      "_model_module": "@jupyter-widgets/base",
      "_model_module_version": "1.2.0",
      "_model_name": "LayoutModel",
      "_view_count": null,
      "_view_module": "@jupyter-widgets/base",
      "_view_module_version": "1.2.0",
      "_view_name": "LayoutView",
      "align_content": null,
      "align_items": null,
      "align_self": null,
      "border": null,
      "bottom": null,
      "display": null,
      "flex": null,
      "flex_flow": null,
      "grid_area": null,
      "grid_auto_columns": null,
      "grid_auto_flow": null,
      "grid_auto_rows": null,
      "grid_column": null,
      "grid_gap": null,
      "grid_row": null,
      "grid_template_areas": null,
      "grid_template_columns": null,
      "grid_template_rows": null,
      "height": null,
      "justify_content": null,
      "justify_items": null,
      "left": null,
      "margin": null,
      "max_height": null,
      "max_width": null,
      "min_height": null,
      "min_width": null,
      "object_fit": null,
      "object_position": null,
      "order": null,
      "overflow": null,
      "overflow_x": null,
      "overflow_y": null,
      "padding": null,
      "right": null,
      "top": null,
      "visibility": null,
      "width": null
     }
    },
    "7c6813d124cc44f7aefb4e1fbb554000": {
     "model_module": "@jupyter-widgets/controls",
     "model_module_version": "1.5.0",
     "model_name": "DescriptionStyleModel",
     "state": {
      "_model_module": "@jupyter-widgets/controls",
      "_model_module_version": "1.5.0",
      "_model_name": "DescriptionStyleModel",
      "_view_count": null,
      "_view_module": "@jupyter-widgets/base",
      "_view_module_version": "1.2.0",
      "_view_name": "StyleView",
      "description_width": ""
     }
    },
    "7dc4107c2ff64ad3bb7ed51eaf6b727c": {
     "model_module": "@jupyter-widgets/controls",
     "model_module_version": "1.5.0",
     "model_name": "DescriptionStyleModel",
     "state": {
      "_model_module": "@jupyter-widgets/controls",
      "_model_module_version": "1.5.0",
      "_model_name": "DescriptionStyleModel",
      "_view_count": null,
      "_view_module": "@jupyter-widgets/base",
      "_view_module_version": "1.2.0",
      "_view_name": "StyleView",
      "description_width": ""
     }
    },
    "839edd949000422e8b9307b6e7554e2f": {
     "model_module": "@jupyter-widgets/controls",
     "model_module_version": "1.5.0",
     "model_name": "HTMLModel",
     "state": {
      "_dom_classes": [],
      "_model_module": "@jupyter-widgets/controls",
      "_model_module_version": "1.5.0",
      "_model_name": "HTMLModel",
      "_view_count": null,
      "_view_module": "@jupyter-widgets/controls",
      "_view_module_version": "1.5.0",
      "_view_name": "HTMLView",
      "description": "",
      "description_tooltip": null,
      "layout": "IPY_MODEL_d843b2e3f25d427aa9d45059d54c2879",
      "placeholder": "​",
      "style": "IPY_MODEL_321a258f11864d62b01a15579a1dd6da",
      "value": " 499M/499M [00:25&lt;00:00, 19.9MB/s]"
     }
    },
    "85e4d4c7bc3542ae9d3c7ee13cc6e29c": {
     "model_module": "@jupyter-widgets/controls",
     "model_module_version": "1.5.0",
     "model_name": "HTMLModel",
     "state": {
      "_dom_classes": [],
      "_model_module": "@jupyter-widgets/controls",
      "_model_module_version": "1.5.0",
      "_model_name": "HTMLModel",
      "_view_count": null,
      "_view_module": "@jupyter-widgets/controls",
      "_view_module_version": "1.5.0",
      "_view_name": "HTMLView",
      "description": "",
      "description_tooltip": null,
      "layout": "IPY_MODEL_7097e122666942349fd6d220392cc2c7",
      "placeholder": "​",
      "style": "IPY_MODEL_7c6813d124cc44f7aefb4e1fbb554000",
      "value": "Downloading builder script: 100%"
     }
    },
    "86052bcb4746467fa9a188fb32d37458": {
     "model_module": "@jupyter-widgets/controls",
     "model_module_version": "1.5.0",
     "model_name": "ProgressStyleModel",
     "state": {
      "_model_module": "@jupyter-widgets/controls",
      "_model_module_version": "1.5.0",
      "_model_name": "ProgressStyleModel",
      "_view_count": null,
      "_view_module": "@jupyter-widgets/base",
      "_view_module_version": "1.2.0",
      "_view_name": "StyleView",
      "bar_color": null,
      "description_width": ""
     }
    },
    "8d64373308e546e4930c1d6a6c32f287": {
     "model_module": "@jupyter-widgets/controls",
     "model_module_version": "1.5.0",
     "model_name": "DescriptionStyleModel",
     "state": {
      "_model_module": "@jupyter-widgets/controls",
      "_model_module_version": "1.5.0",
      "_model_name": "DescriptionStyleModel",
      "_view_count": null,
      "_view_module": "@jupyter-widgets/base",
      "_view_module_version": "1.2.0",
      "_view_name": "StyleView",
      "description_width": ""
     }
    },
    "8df85578a1be4cb793600f0888d51ea5": {
     "model_module": "@jupyter-widgets/controls",
     "model_module_version": "1.5.0",
     "model_name": "DescriptionStyleModel",
     "state": {
      "_model_module": "@jupyter-widgets/controls",
      "_model_module_version": "1.5.0",
      "_model_name": "DescriptionStyleModel",
      "_view_count": null,
      "_view_module": "@jupyter-widgets/base",
      "_view_module_version": "1.2.0",
      "_view_name": "StyleView",
      "description_width": ""
     }
    },
    "8e4da054c92c416dbf9a0d1f12ff4881": {
     "model_module": "@jupyter-widgets/base",
     "model_module_version": "1.2.0",
     "model_name": "LayoutModel",
     "state": {
      "_model_module": "@jupyter-widgets/base",
      "_model_module_version": "1.2.0",
      "_model_name": "LayoutModel",
      "_view_count": null,
      "_view_module": "@jupyter-widgets/base",
      "_view_module_version": "1.2.0",
      "_view_name": "LayoutView",
      "align_content": null,
      "align_items": null,
      "align_self": null,
      "border": null,
      "bottom": null,
      "display": null,
      "flex": null,
      "flex_flow": null,
      "grid_area": null,
      "grid_auto_columns": null,
      "grid_auto_flow": null,
      "grid_auto_rows": null,
      "grid_column": null,
      "grid_gap": null,
      "grid_row": null,
      "grid_template_areas": null,
      "grid_template_columns": null,
      "grid_template_rows": null,
      "height": null,
      "justify_content": null,
      "justify_items": null,
      "left": null,
      "margin": null,
      "max_height": null,
      "max_width": null,
      "min_height": null,
      "min_width": null,
      "object_fit": null,
      "object_position": null,
      "order": null,
      "overflow": null,
      "overflow_x": null,
      "overflow_y": null,
      "padding": null,
      "right": null,
      "top": null,
      "visibility": null,
      "width": null
     }
    },
    "8e57ee275866479784a2a28d8e002ec5": {
     "model_module": "@jupyter-widgets/controls",
     "model_module_version": "1.5.0",
     "model_name": "DescriptionStyleModel",
     "state": {
      "_model_module": "@jupyter-widgets/controls",
      "_model_module_version": "1.5.0",
      "_model_name": "DescriptionStyleModel",
      "_view_count": null,
      "_view_module": "@jupyter-widgets/base",
      "_view_module_version": "1.2.0",
      "_view_name": "StyleView",
      "description_width": ""
     }
    },
    "9033a549a4f0454c86bb9c184c471888": {
     "model_module": "@jupyter-widgets/controls",
     "model_module_version": "1.5.0",
     "model_name": "FloatProgressModel",
     "state": {
      "_dom_classes": [],
      "_model_module": "@jupyter-widgets/controls",
      "_model_module_version": "1.5.0",
      "_model_name": "FloatProgressModel",
      "_view_count": null,
      "_view_module": "@jupyter-widgets/controls",
      "_view_module_version": "1.5.0",
      "_view_name": "ProgressView",
      "bar_style": "success",
      "description": "",
      "description_tooltip": null,
      "layout": "IPY_MODEL_d99747ee0b0844c9960c0630074ae2e6",
      "max": 456318,
      "min": 0,
      "orientation": "horizontal",
      "style": "IPY_MODEL_3ea36d7af6254bb3ae57efb84ccbfd20",
      "value": 456318
     }
    },
    "9418c2ff01ee463db9170ec1d7290482": {
     "model_module": "@jupyter-widgets/controls",
     "model_module_version": "1.5.0",
     "model_name": "HTMLModel",
     "state": {
      "_dom_classes": [],
      "_model_module": "@jupyter-widgets/controls",
      "_model_module_version": "1.5.0",
      "_model_name": "HTMLModel",
      "_view_count": null,
      "_view_module": "@jupyter-widgets/controls",
      "_view_module_version": "1.5.0",
      "_view_name": "HTMLView",
      "description": "",
      "description_tooltip": null,
      "layout": "IPY_MODEL_f5a8ac55363c4bd9bdabdb93f8e5addd",
      "placeholder": "​",
      "style": "IPY_MODEL_eb6126b5dd1d41e088105708005372bf",
      "value": " 899k/899k [00:00&lt;00:00, 1.16MB/s]"
     }
    },
    "949d4dc3063a4b6296cbbebf35aee454": {
     "model_module": "@jupyter-widgets/controls",
     "model_module_version": "1.5.0",
     "model_name": "DescriptionStyleModel",
     "state": {
      "_model_module": "@jupyter-widgets/controls",
      "_model_module_version": "1.5.0",
      "_model_name": "DescriptionStyleModel",
      "_view_count": null,
      "_view_module": "@jupyter-widgets/base",
      "_view_module_version": "1.2.0",
      "_view_name": "StyleView",
      "description_width": ""
     }
    },
    "99cda03e4ceb4010a5b9d6fd06d75101": {
     "model_module": "@jupyter-widgets/controls",
     "model_module_version": "1.5.0",
     "model_name": "DescriptionStyleModel",
     "state": {
      "_model_module": "@jupyter-widgets/controls",
      "_model_module_version": "1.5.0",
      "_model_name": "DescriptionStyleModel",
      "_view_count": null,
      "_view_module": "@jupyter-widgets/base",
      "_view_module_version": "1.2.0",
      "_view_name": "StyleView",
      "description_width": ""
     }
    },
    "9aa62ee160b241bba6ae74d82549bbb6": {
     "model_module": "@jupyter-widgets/controls",
     "model_module_version": "1.5.0",
     "model_name": "DescriptionStyleModel",
     "state": {
      "_model_module": "@jupyter-widgets/controls",
      "_model_module_version": "1.5.0",
      "_model_name": "DescriptionStyleModel",
      "_view_count": null,
      "_view_module": "@jupyter-widgets/base",
      "_view_module_version": "1.2.0",
      "_view_name": "StyleView",
      "description_width": ""
     }
    },
    "9d763230007b4bbb8b442c7f3be7165d": {
     "model_module": "@jupyter-widgets/controls",
     "model_module_version": "1.5.0",
     "model_name": "HTMLModel",
     "state": {
      "_dom_classes": [],
      "_model_module": "@jupyter-widgets/controls",
      "_model_module_version": "1.5.0",
      "_model_name": "HTMLModel",
      "_view_count": null,
      "_view_module": "@jupyter-widgets/controls",
      "_view_module_version": "1.5.0",
      "_view_name": "HTMLView",
      "description": "",
      "description_tooltip": null,
      "layout": "IPY_MODEL_1acacc7eb35e4de79e1ce5e97526b66e",
      "placeholder": "​",
      "style": "IPY_MODEL_9aa62ee160b241bba6ae74d82549bbb6",
      "value": " 239/239 [00:00&lt;00:00, 8.07kB/s]"
     }
    },
    "a02fb7f81b094f44a81f3914f71d9e12": {
     "model_module": "@jupyter-widgets/base",
     "model_module_version": "1.2.0",
     "model_name": "LayoutModel",
     "state": {
      "_model_module": "@jupyter-widgets/base",
      "_model_module_version": "1.2.0",
      "_model_name": "LayoutModel",
      "_view_count": null,
      "_view_module": "@jupyter-widgets/base",
      "_view_module_version": "1.2.0",
      "_view_name": "LayoutView",
      "align_content": null,
      "align_items": null,
      "align_self": null,
      "border": null,
      "bottom": null,
      "display": null,
      "flex": null,
      "flex_flow": null,
      "grid_area": null,
      "grid_auto_columns": null,
      "grid_auto_flow": null,
      "grid_auto_rows": null,
      "grid_column": null,
      "grid_gap": null,
      "grid_row": null,
      "grid_template_areas": null,
      "grid_template_columns": null,
      "grid_template_rows": null,
      "height": null,
      "justify_content": null,
      "justify_items": null,
      "left": null,
      "margin": null,
      "max_height": null,
      "max_width": null,
      "min_height": null,
      "min_width": null,
      "object_fit": null,
      "object_position": null,
      "order": null,
      "overflow": null,
      "overflow_x": null,
      "overflow_y": null,
      "padding": null,
      "right": null,
      "top": null,
      "visibility": null,
      "width": null
     }
    },
    "a302a040bcce4e2888a0fc4ff5bf248d": {
     "model_module": "@jupyter-widgets/controls",
     "model_module_version": "1.5.0",
     "model_name": "HBoxModel",
     "state": {
      "_dom_classes": [],
      "_model_module": "@jupyter-widgets/controls",
      "_model_module_version": "1.5.0",
      "_model_name": "HBoxModel",
      "_view_count": null,
      "_view_module": "@jupyter-widgets/controls",
      "_view_module_version": "1.5.0",
      "_view_name": "HBoxView",
      "box_style": "",
      "children": [
       "IPY_MODEL_44671579c1894962a4ec567de79604a9",
       "IPY_MODEL_bc01e5e29b7d48ce999f7ddb21b8c548",
       "IPY_MODEL_fae3c917ef3b4ea88e6080452952ab63"
      ],
      "layout": "IPY_MODEL_c3005e0ee69c4527a48e290c3333035f"
     }
    },
    "a6e26c33839d483db1dd39f165514b44": {
     "model_module": "@jupyter-widgets/base",
     "model_module_version": "1.2.0",
     "model_name": "LayoutModel",
     "state": {
      "_model_module": "@jupyter-widgets/base",
      "_model_module_version": "1.2.0",
      "_model_name": "LayoutModel",
      "_view_count": null,
      "_view_module": "@jupyter-widgets/base",
      "_view_module_version": "1.2.0",
      "_view_name": "LayoutView",
      "align_content": null,
      "align_items": null,
      "align_self": null,
      "border": null,
      "bottom": null,
      "display": null,
      "flex": null,
      "flex_flow": null,
      "grid_area": null,
      "grid_auto_columns": null,
      "grid_auto_flow": null,
      "grid_auto_rows": null,
      "grid_column": null,
      "grid_gap": null,
      "grid_row": null,
      "grid_template_areas": null,
      "grid_template_columns": null,
      "grid_template_rows": null,
      "height": null,
      "justify_content": null,
      "justify_items": null,
      "left": null,
      "margin": null,
      "max_height": null,
      "max_width": null,
      "min_height": null,
      "min_width": null,
      "object_fit": null,
      "object_position": null,
      "order": null,
      "overflow": null,
      "overflow_x": null,
      "overflow_y": null,
      "padding": null,
      "right": null,
      "top": null,
      "visibility": null,
      "width": null
     }
    },
    "a9bbaa6c19974e3f91baa78f25cefc92": {
     "model_module": "@jupyter-widgets/controls",
     "model_module_version": "1.5.0",
     "model_name": "HBoxModel",
     "state": {
      "_dom_classes": [],
      "_model_module": "@jupyter-widgets/controls",
      "_model_module_version": "1.5.0",
      "_model_name": "HBoxModel",
      "_view_count": null,
      "_view_module": "@jupyter-widgets/controls",
      "_view_module_version": "1.5.0",
      "_view_name": "HBoxView",
      "box_style": "",
      "children": [
       "IPY_MODEL_b62c9c19d7b0464c8640ac61cacd282f",
       "IPY_MODEL_9033a549a4f0454c86bb9c184c471888",
       "IPY_MODEL_02ae9f7781444a0ca4793a6f4009e34a"
      ],
      "layout": "IPY_MODEL_f8e503222ac4462086f751cde4b92e20"
     }
    },
    "aa9f7e2dafea4a05b993fb29da87dd83": {
     "model_module": "@jupyter-widgets/controls",
     "model_module_version": "1.5.0",
     "model_name": "HBoxModel",
     "state": {
      "_dom_classes": [],
      "_model_module": "@jupyter-widgets/controls",
      "_model_module_version": "1.5.0",
      "_model_name": "HBoxModel",
      "_view_count": null,
      "_view_module": "@jupyter-widgets/controls",
      "_view_module_version": "1.5.0",
      "_view_name": "HBoxView",
      "box_style": "",
      "children": [
       "IPY_MODEL_85e4d4c7bc3542ae9d3c7ee13cc6e29c",
       "IPY_MODEL_d33d41c7d5b14c83bc01cf712f5136c4",
       "IPY_MODEL_0cb05ddedca94c328def092bd29b7d63"
      ],
      "layout": "IPY_MODEL_4ba65c98dbde407b9f05380a6fc523ea"
     }
    },
    "aafd19830dd349cd8e99544cf981d0e2": {
     "model_module": "@jupyter-widgets/base",
     "model_module_version": "1.2.0",
     "model_name": "LayoutModel",
     "state": {
      "_model_module": "@jupyter-widgets/base",
      "_model_module_version": "1.2.0",
      "_model_name": "LayoutModel",
      "_view_count": null,
      "_view_module": "@jupyter-widgets/base",
      "_view_module_version": "1.2.0",
      "_view_name": "LayoutView",
      "align_content": null,
      "align_items": null,
      "align_self": null,
      "border": null,
      "bottom": null,
      "display": null,
      "flex": null,
      "flex_flow": null,
      "grid_area": null,
      "grid_auto_columns": null,
      "grid_auto_flow": null,
      "grid_auto_rows": null,
      "grid_column": null,
      "grid_gap": null,
      "grid_row": null,
      "grid_template_areas": null,
      "grid_template_columns": null,
      "grid_template_rows": null,
      "height": null,
      "justify_content": null,
      "justify_items": null,
      "left": null,
      "margin": null,
      "max_height": null,
      "max_width": null,
      "min_height": null,
      "min_width": null,
      "object_fit": null,
      "object_position": null,
      "order": null,
      "overflow": null,
      "overflow_x": null,
      "overflow_y": null,
      "padding": null,
      "right": null,
      "top": null,
      "visibility": null,
      "width": null
     }
    },
    "b057a32e4453480eaab0145ff0868cbc": {
     "model_module": "@jupyter-widgets/controls",
     "model_module_version": "1.5.0",
     "model_name": "HTMLModel",
     "state": {
      "_dom_classes": [],
      "_model_module": "@jupyter-widgets/controls",
      "_model_module_version": "1.5.0",
      "_model_name": "HTMLModel",
      "_view_count": null,
      "_view_module": "@jupyter-widgets/controls",
      "_view_module_version": "1.5.0",
      "_view_name": "HTMLView",
      "description": "",
      "description_tooltip": null,
      "layout": "IPY_MODEL_d829e77768a0421daf7d13b5604067c3",
      "placeholder": "​",
      "style": "IPY_MODEL_3a0b0a3b4a1843b28813eb40feaf85d7",
      "value": "vocab.json: 100%"
     }
    },
    "b09ea356adf04eb9a573118d81fb5838": {
     "model_module": "@jupyter-widgets/controls",
     "model_module_version": "1.5.0",
     "model_name": "DescriptionStyleModel",
     "state": {
      "_model_module": "@jupyter-widgets/controls",
      "_model_module_version": "1.5.0",
      "_model_name": "DescriptionStyleModel",
      "_view_count": null,
      "_view_module": "@jupyter-widgets/base",
      "_view_module_version": "1.2.0",
      "_view_name": "StyleView",
      "description_width": ""
     }
    },
    "b0d48599f920487e9fad10e2d09bba0d": {
     "model_module": "@jupyter-widgets/base",
     "model_module_version": "1.2.0",
     "model_name": "LayoutModel",
     "state": {
      "_model_module": "@jupyter-widgets/base",
      "_model_module_version": "1.2.0",
      "_model_name": "LayoutModel",
      "_view_count": null,
      "_view_module": "@jupyter-widgets/base",
      "_view_module_version": "1.2.0",
      "_view_name": "LayoutView",
      "align_content": null,
      "align_items": null,
      "align_self": null,
      "border": null,
      "bottom": null,
      "display": null,
      "flex": null,
      "flex_flow": null,
      "grid_area": null,
      "grid_auto_columns": null,
      "grid_auto_flow": null,
      "grid_auto_rows": null,
      "grid_column": null,
      "grid_gap": null,
      "grid_row": null,
      "grid_template_areas": null,
      "grid_template_columns": null,
      "grid_template_rows": null,
      "height": null,
      "justify_content": null,
      "justify_items": null,
      "left": null,
      "margin": null,
      "max_height": null,
      "max_width": null,
      "min_height": null,
      "min_width": null,
      "object_fit": null,
      "object_position": null,
      "order": null,
      "overflow": null,
      "overflow_x": null,
      "overflow_y": null,
      "padding": null,
      "right": null,
      "top": null,
      "visibility": null,
      "width": null
     }
    },
    "b260f75f97004682923901e54a251672": {
     "model_module": "@jupyter-widgets/controls",
     "model_module_version": "1.5.0",
     "model_name": "FloatProgressModel",
     "state": {
      "_dom_classes": [],
      "_model_module": "@jupyter-widgets/controls",
      "_model_module_version": "1.5.0",
      "_model_name": "FloatProgressModel",
      "_view_count": null,
      "_view_module": "@jupyter-widgets/controls",
      "_view_module_version": "1.5.0",
      "_view_name": "ProgressView",
      "bar_style": "success",
      "description": "",
      "description_tooltip": null,
      "layout": "IPY_MODEL_4e060a7ab8134c60a80b79ec2e3ca1bb",
      "max": 816,
      "min": 0,
      "orientation": "horizontal",
      "style": "IPY_MODEL_23d4c2b588924b6c84c097ce63c152bd",
      "value": 816
     }
    },
    "b62c9c19d7b0464c8640ac61cacd282f": {
     "model_module": "@jupyter-widgets/controls",
     "model_module_version": "1.5.0",
     "model_name": "HTMLModel",
     "state": {
      "_dom_classes": [],
      "_model_module": "@jupyter-widgets/controls",
      "_model_module_version": "1.5.0",
      "_model_name": "HTMLModel",
      "_view_count": null,
      "_view_module": "@jupyter-widgets/controls",
      "_view_module_version": "1.5.0",
      "_view_name": "HTMLView",
      "description": "",
      "description_tooltip": null,
      "layout": "IPY_MODEL_2c23e08fb7704c6e885fe1c5f5af404e",
      "placeholder": "​",
      "style": "IPY_MODEL_e9fc47492fba4ca894c13d64ab4badbb",
      "value": "merges.txt: 100%"
     }
    },
    "bc01e5e29b7d48ce999f7ddb21b8c548": {
     "model_module": "@jupyter-widgets/controls",
     "model_module_version": "1.5.0",
     "model_name": "FloatProgressModel",
     "state": {
      "_dom_classes": [],
      "_model_module": "@jupyter-widgets/controls",
      "_model_module_version": "1.5.0",
      "_model_name": "FloatProgressModel",
      "_view_count": null,
      "_view_module": "@jupyter-widgets/controls",
      "_view_module_version": "1.5.0",
      "_view_name": "ProgressView",
      "bar_style": "success",
      "description": "",
      "description_tooltip": null,
      "layout": "IPY_MODEL_cc635ed5929647f5bc6ed78b6c2cb66d",
      "max": 119,
      "min": 0,
      "orientation": "horizontal",
      "style": "IPY_MODEL_5bd145c841f24d72ba739e7ac404587f",
      "value": 119
     }
    },
    "c094801589734ecc87fa1b8e7da0e872": {
     "model_module": "@jupyter-widgets/controls",
     "model_module_version": "1.5.0",
     "model_name": "HTMLModel",
     "state": {
      "_dom_classes": [],
      "_model_module": "@jupyter-widgets/controls",
      "_model_module_version": "1.5.0",
      "_model_name": "HTMLModel",
      "_view_count": null,
      "_view_module": "@jupyter-widgets/controls",
      "_view_module_version": "1.5.0",
      "_view_name": "HTMLView",
      "description": "",
      "description_tooltip": null,
      "layout": "IPY_MODEL_a6e26c33839d483db1dd39f165514b44",
      "placeholder": "​",
      "style": "IPY_MODEL_949d4dc3063a4b6296cbbebf35aee454",
      "value": "config.json: 100%"
     }
    },
    "c3005e0ee69c4527a48e290c3333035f": {
     "model_module": "@jupyter-widgets/base",
     "model_module_version": "1.2.0",
     "model_name": "LayoutModel",
     "state": {
      "_model_module": "@jupyter-widgets/base",
      "_model_module_version": "1.2.0",
      "_model_name": "LayoutModel",
      "_view_count": null,
      "_view_module": "@jupyter-widgets/base",
      "_view_module_version": "1.2.0",
      "_view_name": "LayoutView",
      "align_content": null,
      "align_items": null,
      "align_self": null,
      "border": null,
      "bottom": null,
      "display": null,
      "flex": null,
      "flex_flow": null,
      "grid_area": null,
      "grid_auto_columns": null,
      "grid_auto_flow": null,
      "grid_auto_rows": null,
      "grid_column": null,
      "grid_gap": null,
      "grid_row": null,
      "grid_template_areas": null,
      "grid_template_columns": null,
      "grid_template_rows": null,
      "height": null,
      "justify_content": null,
      "justify_items": null,
      "left": null,
      "margin": null,
      "max_height": null,
      "max_width": null,
      "min_height": null,
      "min_width": null,
      "object_fit": null,
      "object_position": null,
      "order": null,
      "overflow": null,
      "overflow_x": null,
      "overflow_y": null,
      "padding": null,
      "right": null,
      "top": null,
      "visibility": null,
      "width": null
     }
    },
    "c498ce3e5bc949c7a22770f60cca8d35": {
     "model_module": "@jupyter-widgets/controls",
     "model_module_version": "1.5.0",
     "model_name": "ProgressStyleModel",
     "state": {
      "_model_module": "@jupyter-widgets/controls",
      "_model_module_version": "1.5.0",
      "_model_name": "ProgressStyleModel",
      "_view_count": null,
      "_view_module": "@jupyter-widgets/base",
      "_view_module_version": "1.2.0",
      "_view_name": "StyleView",
      "bar_color": null,
      "description_width": ""
     }
    },
    "c5209f5d49714dccbd5043735d4a2207": {
     "model_module": "@jupyter-widgets/base",
     "model_module_version": "1.2.0",
     "model_name": "LayoutModel",
     "state": {
      "_model_module": "@jupyter-widgets/base",
      "_model_module_version": "1.2.0",
      "_model_name": "LayoutModel",
      "_view_count": null,
      "_view_module": "@jupyter-widgets/base",
      "_view_module_version": "1.2.0",
      "_view_name": "LayoutView",
      "align_content": null,
      "align_items": null,
      "align_self": null,
      "border": null,
      "bottom": null,
      "display": null,
      "flex": null,
      "flex_flow": null,
      "grid_area": null,
      "grid_auto_columns": null,
      "grid_auto_flow": null,
      "grid_auto_rows": null,
      "grid_column": null,
      "grid_gap": null,
      "grid_row": null,
      "grid_template_areas": null,
      "grid_template_columns": null,
      "grid_template_rows": null,
      "height": null,
      "justify_content": null,
      "justify_items": null,
      "left": null,
      "margin": null,
      "max_height": null,
      "max_width": null,
      "min_height": null,
      "min_width": null,
      "object_fit": null,
      "object_position": null,
      "order": null,
      "overflow": null,
      "overflow_x": null,
      "overflow_y": null,
      "padding": null,
      "right": null,
      "top": null,
      "visibility": null,
      "width": null
     }
    },
    "ca79a7e44c2a4ddcaf9ac135e596c51b": {
     "model_module": "@jupyter-widgets/controls",
     "model_module_version": "1.5.0",
     "model_name": "HBoxModel",
     "state": {
      "_dom_classes": [],
      "_model_module": "@jupyter-widgets/controls",
      "_model_module_version": "1.5.0",
      "_model_name": "HBoxModel",
      "_view_count": null,
      "_view_module": "@jupyter-widgets/controls",
      "_view_module_version": "1.5.0",
      "_view_name": "HBoxView",
      "box_style": "",
      "children": [
       "IPY_MODEL_cc398940735c4606bbcc16995f4d3d17",
       "IPY_MODEL_46b1299515064d8bb6e250abf80b6a03",
       "IPY_MODEL_839edd949000422e8b9307b6e7554e2f"
      ],
      "layout": "IPY_MODEL_a02fb7f81b094f44a81f3914f71d9e12"
     }
    },
    "cc398940735c4606bbcc16995f4d3d17": {
     "model_module": "@jupyter-widgets/controls",
     "model_module_version": "1.5.0",
     "model_name": "HTMLModel",
     "state": {
      "_dom_classes": [],
      "_model_module": "@jupyter-widgets/controls",
      "_model_module_version": "1.5.0",
      "_model_name": "HTMLModel",
      "_view_count": null,
      "_view_module": "@jupyter-widgets/controls",
      "_view_module_version": "1.5.0",
      "_view_name": "HTMLView",
      "description": "",
      "description_tooltip": null,
      "layout": "IPY_MODEL_37d0ded4866b4aeda394fdab588aeab0",
      "placeholder": "​",
      "style": "IPY_MODEL_99cda03e4ceb4010a5b9d6fd06d75101",
      "value": "model.safetensors: 100%"
     }
    },
    "cc635ed5929647f5bc6ed78b6c2cb66d": {
     "model_module": "@jupyter-widgets/base",
     "model_module_version": "1.2.0",
     "model_name": "LayoutModel",
     "state": {
      "_model_module": "@jupyter-widgets/base",
      "_model_module_version": "1.2.0",
      "_model_name": "LayoutModel",
      "_view_count": null,
      "_view_module": "@jupyter-widgets/base",
      "_view_module_version": "1.2.0",
      "_view_name": "LayoutView",
      "align_content": null,
      "align_items": null,
      "align_self": null,
      "border": null,
      "bottom": null,
      "display": null,
      "flex": null,
      "flex_flow": null,
      "grid_area": null,
      "grid_auto_columns": null,
      "grid_auto_flow": null,
      "grid_auto_rows": null,
      "grid_column": null,
      "grid_gap": null,
      "grid_row": null,
      "grid_template_areas": null,
      "grid_template_columns": null,
      "grid_template_rows": null,
      "height": null,
      "justify_content": null,
      "justify_items": null,
      "left": null,
      "margin": null,
      "max_height": null,
      "max_width": null,
      "min_height": null,
      "min_width": null,
      "object_fit": null,
      "object_position": null,
      "order": null,
      "overflow": null,
      "overflow_x": null,
      "overflow_y": null,
      "padding": null,
      "right": null,
      "top": null,
      "visibility": null,
      "width": null
     }
    },
    "cd664dd82c62450bbc1da9870a977829": {
     "model_module": "@jupyter-widgets/controls",
     "model_module_version": "1.5.0",
     "model_name": "FloatProgressModel",
     "state": {
      "_dom_classes": [],
      "_model_module": "@jupyter-widgets/controls",
      "_model_module_version": "1.5.0",
      "_model_name": "FloatProgressModel",
      "_view_count": null,
      "_view_module": "@jupyter-widgets/controls",
      "_view_module_version": "1.5.0",
      "_view_name": "ProgressView",
      "bar_style": "success",
      "description": "",
      "description_tooltip": null,
      "layout": "IPY_MODEL_25288603a66e435ea81f522fd6e4b855",
      "max": 1106,
      "min": 0,
      "orientation": "horizontal",
      "style": "IPY_MODEL_c498ce3e5bc949c7a22770f60cca8d35",
      "value": 1106
     }
    },
    "cd9460f0566047c9a02a9cb1a0c8a9fb": {
     "model_module": "@jupyter-widgets/base",
     "model_module_version": "1.2.0",
     "model_name": "LayoutModel",
     "state": {
      "_model_module": "@jupyter-widgets/base",
      "_model_module_version": "1.2.0",
      "_model_name": "LayoutModel",
      "_view_count": null,
      "_view_module": "@jupyter-widgets/base",
      "_view_module_version": "1.2.0",
      "_view_name": "LayoutView",
      "align_content": null,
      "align_items": null,
      "align_self": null,
      "border": null,
      "bottom": null,
      "display": null,
      "flex": null,
      "flex_flow": null,
      "grid_area": null,
      "grid_auto_columns": null,
      "grid_auto_flow": null,
      "grid_auto_rows": null,
      "grid_column": null,
      "grid_gap": null,
      "grid_row": null,
      "grid_template_areas": null,
      "grid_template_columns": null,
      "grid_template_rows": null,
      "height": null,
      "justify_content": null,
      "justify_items": null,
      "left": null,
      "margin": null,
      "max_height": null,
      "max_width": null,
      "min_height": null,
      "min_width": null,
      "object_fit": null,
      "object_position": null,
      "order": null,
      "overflow": null,
      "overflow_x": null,
      "overflow_y": null,
      "padding": null,
      "right": null,
      "top": null,
      "visibility": null,
      "width": null
     }
    },
    "d33d41c7d5b14c83bc01cf712f5136c4": {
     "model_module": "@jupyter-widgets/controls",
     "model_module_version": "1.5.0",
     "model_name": "FloatProgressModel",
     "state": {
      "_dom_classes": [],
      "_model_module": "@jupyter-widgets/controls",
      "_model_module_version": "1.5.0",
      "_model_name": "FloatProgressModel",
      "_view_count": null,
      "_view_module": "@jupyter-widgets/controls",
      "_view_module_version": "1.5.0",
      "_view_name": "ProgressView",
      "bar_style": "success",
      "description": "",
      "description_tooltip": null,
      "layout": "IPY_MODEL_783c3a83a78544f9bac9ce280534f989",
      "max": 6077,
      "min": 0,
      "orientation": "horizontal",
      "style": "IPY_MODEL_092dabc68fb74d11bb0c77e18592a933",
      "value": 6077
     }
    },
    "d472d4b60b004428b40ce1eca01eb996": {
     "model_module": "@jupyter-widgets/controls",
     "model_module_version": "1.5.0",
     "model_name": "ProgressStyleModel",
     "state": {
      "_model_module": "@jupyter-widgets/controls",
      "_model_module_version": "1.5.0",
      "_model_name": "ProgressStyleModel",
      "_view_count": null,
      "_view_module": "@jupyter-widgets/base",
      "_view_module_version": "1.2.0",
      "_view_name": "StyleView",
      "bar_color": null,
      "description_width": ""
     }
    },
    "d829e77768a0421daf7d13b5604067c3": {
     "model_module": "@jupyter-widgets/base",
     "model_module_version": "1.2.0",
     "model_name": "LayoutModel",
     "state": {
      "_model_module": "@jupyter-widgets/base",
      "_model_module_version": "1.2.0",
      "_model_name": "LayoutModel",
      "_view_count": null,
      "_view_module": "@jupyter-widgets/base",
      "_view_module_version": "1.2.0",
      "_view_name": "LayoutView",
      "align_content": null,
      "align_items": null,
      "align_self": null,
      "border": null,
      "bottom": null,
      "display": null,
      "flex": null,
      "flex_flow": null,
      "grid_area": null,
      "grid_auto_columns": null,
      "grid_auto_flow": null,
      "grid_auto_rows": null,
      "grid_column": null,
      "grid_gap": null,
      "grid_row": null,
      "grid_template_areas": null,
      "grid_template_columns": null,
      "grid_template_rows": null,
      "height": null,
      "justify_content": null,
      "justify_items": null,
      "left": null,
      "margin": null,
      "max_height": null,
      "max_width": null,
      "min_height": null,
      "min_width": null,
      "object_fit": null,
      "object_position": null,
      "order": null,
      "overflow": null,
      "overflow_x": null,
      "overflow_y": null,
      "padding": null,
      "right": null,
      "top": null,
      "visibility": null,
      "width": null
     }
    },
    "d843b2e3f25d427aa9d45059d54c2879": {
     "model_module": "@jupyter-widgets/base",
     "model_module_version": "1.2.0",
     "model_name": "LayoutModel",
     "state": {
      "_model_module": "@jupyter-widgets/base",
      "_model_module_version": "1.2.0",
      "_model_name": "LayoutModel",
      "_view_count": null,
      "_view_module": "@jupyter-widgets/base",
      "_view_module_version": "1.2.0",
      "_view_name": "LayoutView",
      "align_content": null,
      "align_items": null,
      "align_self": null,
      "border": null,
      "bottom": null,
      "display": null,
      "flex": null,
      "flex_flow": null,
      "grid_area": null,
      "grid_auto_columns": null,
      "grid_auto_flow": null,
      "grid_auto_rows": null,
      "grid_column": null,
      "grid_gap": null,
      "grid_row": null,
      "grid_template_areas": null,
      "grid_template_columns": null,
      "grid_template_rows": null,
      "height": null,
      "justify_content": null,
      "justify_items": null,
      "left": null,
      "margin": null,
      "max_height": null,
      "max_width": null,
      "min_height": null,
      "min_width": null,
      "object_fit": null,
      "object_position": null,
      "order": null,
      "overflow": null,
      "overflow_x": null,
      "overflow_y": null,
      "padding": null,
      "right": null,
      "top": null,
      "visibility": null,
      "width": null
     }
    },
    "d99747ee0b0844c9960c0630074ae2e6": {
     "model_module": "@jupyter-widgets/base",
     "model_module_version": "1.2.0",
     "model_name": "LayoutModel",
     "state": {
      "_model_module": "@jupyter-widgets/base",
      "_model_module_version": "1.2.0",
      "_model_name": "LayoutModel",
      "_view_count": null,
      "_view_module": "@jupyter-widgets/base",
      "_view_module_version": "1.2.0",
      "_view_name": "LayoutView",
      "align_content": null,
      "align_items": null,
      "align_self": null,
      "border": null,
      "bottom": null,
      "display": null,
      "flex": null,
      "flex_flow": null,
      "grid_area": null,
      "grid_auto_columns": null,
      "grid_auto_flow": null,
      "grid_auto_rows": null,
      "grid_column": null,
      "grid_gap": null,
      "grid_row": null,
      "grid_template_areas": null,
      "grid_template_columns": null,
      "grid_template_rows": null,
      "height": null,
      "justify_content": null,
      "justify_items": null,
      "left": null,
      "margin": null,
      "max_height": null,
      "max_width": null,
      "min_height": null,
      "min_width": null,
      "object_fit": null,
      "object_position": null,
      "order": null,
      "overflow": null,
      "overflow_x": null,
      "overflow_y": null,
      "padding": null,
      "right": null,
      "top": null,
      "visibility": null,
      "width": null
     }
    },
    "da8f7b1499e046c5bb0045c427a006b9": {
     "model_module": "@jupyter-widgets/controls",
     "model_module_version": "1.5.0",
     "model_name": "HTMLModel",
     "state": {
      "_dom_classes": [],
      "_model_module": "@jupyter-widgets/controls",
      "_model_module_version": "1.5.0",
      "_model_name": "HTMLModel",
      "_view_count": null,
      "_view_module": "@jupyter-widgets/controls",
      "_view_module_version": "1.5.0",
      "_view_name": "HTMLView",
      "description": "",
      "description_tooltip": null,
      "layout": "IPY_MODEL_5b3281f60fc44348893a6650d15f1f30",
      "placeholder": "​",
      "style": "IPY_MODEL_8d64373308e546e4930c1d6a6c32f287",
      "value": "tokenizer_config.json: 100%"
     }
    },
    "dad82c78a20645c5b93165baf0b05743": {
     "model_module": "@jupyter-widgets/controls",
     "model_module_version": "1.5.0",
     "model_name": "HBoxModel",
     "state": {
      "_dom_classes": [],
      "_model_module": "@jupyter-widgets/controls",
      "_model_module_version": "1.5.0",
      "_model_name": "HBoxModel",
      "_view_count": null,
      "_view_module": "@jupyter-widgets/controls",
      "_view_module_version": "1.5.0",
      "_view_name": "HBoxView",
      "box_style": "",
      "children": [
       "IPY_MODEL_da8f7b1499e046c5bb0045c427a006b9",
       "IPY_MODEL_cd664dd82c62450bbc1da9870a977829",
       "IPY_MODEL_628d07e826f24ce190959051801e847d"
      ],
      "layout": "IPY_MODEL_20827696dd1d49a296f8e40494927136"
     }
    },
    "dfe536e985c94521982c6f7780cef4ce": {
     "model_module": "@jupyter-widgets/base",
     "model_module_version": "1.2.0",
     "model_name": "LayoutModel",
     "state": {
      "_model_module": "@jupyter-widgets/base",
      "_model_module_version": "1.2.0",
      "_model_name": "LayoutModel",
      "_view_count": null,
      "_view_module": "@jupyter-widgets/base",
      "_view_module_version": "1.2.0",
      "_view_name": "LayoutView",
      "align_content": null,
      "align_items": null,
      "align_self": null,
      "border": null,
      "bottom": null,
      "display": null,
      "flex": null,
      "flex_flow": null,
      "grid_area": null,
      "grid_auto_columns": null,
      "grid_auto_flow": null,
      "grid_auto_rows": null,
      "grid_column": null,
      "grid_gap": null,
      "grid_row": null,
      "grid_template_areas": null,
      "grid_template_columns": null,
      "grid_template_rows": null,
      "height": null,
      "justify_content": null,
      "justify_items": null,
      "left": null,
      "margin": null,
      "max_height": null,
      "max_width": null,
      "min_height": null,
      "min_width": null,
      "object_fit": null,
      "object_position": null,
      "order": null,
      "overflow": null,
      "overflow_x": null,
      "overflow_y": null,
      "padding": null,
      "right": null,
      "top": null,
      "visibility": null,
      "width": null
     }
    },
    "dfffa4a652f44c2ba8a6c08ac0e5700a": {
     "model_module": "@jupyter-widgets/base",
     "model_module_version": "1.2.0",
     "model_name": "LayoutModel",
     "state": {
      "_model_module": "@jupyter-widgets/base",
      "_model_module_version": "1.2.0",
      "_model_name": "LayoutModel",
      "_view_count": null,
      "_view_module": "@jupyter-widgets/base",
      "_view_module_version": "1.2.0",
      "_view_name": "LayoutView",
      "align_content": null,
      "align_items": null,
      "align_self": null,
      "border": null,
      "bottom": null,
      "display": null,
      "flex": null,
      "flex_flow": null,
      "grid_area": null,
      "grid_auto_columns": null,
      "grid_auto_flow": null,
      "grid_auto_rows": null,
      "grid_column": null,
      "grid_gap": null,
      "grid_row": null,
      "grid_template_areas": null,
      "grid_template_columns": null,
      "grid_template_rows": null,
      "height": null,
      "justify_content": null,
      "justify_items": null,
      "left": null,
      "margin": null,
      "max_height": null,
      "max_width": null,
      "min_height": null,
      "min_width": null,
      "object_fit": null,
      "object_position": null,
      "order": null,
      "overflow": null,
      "overflow_x": null,
      "overflow_y": null,
      "padding": null,
      "right": null,
      "top": null,
      "visibility": null,
      "width": null
     }
    },
    "e95887ce038a4deab2f737dabf9417e4": {
     "model_module": "@jupyter-widgets/controls",
     "model_module_version": "1.5.0",
     "model_name": "HTMLModel",
     "state": {
      "_dom_classes": [],
      "_model_module": "@jupyter-widgets/controls",
      "_model_module_version": "1.5.0",
      "_model_name": "HTMLModel",
      "_view_count": null,
      "_view_module": "@jupyter-widgets/controls",
      "_view_module_version": "1.5.0",
      "_view_name": "HTMLView",
      "description": "",
      "description_tooltip": null,
      "layout": "IPY_MODEL_36dda69edd924b7e8886680697cf0b9f",
      "placeholder": "​",
      "style": "IPY_MODEL_8df85578a1be4cb793600f0888d51ea5",
      "value": "special_tokens_map.json: 100%"
     }
    },
    "e9fc47492fba4ca894c13d64ab4badbb": {
     "model_module": "@jupyter-widgets/controls",
     "model_module_version": "1.5.0",
     "model_name": "DescriptionStyleModel",
     "state": {
      "_model_module": "@jupyter-widgets/controls",
      "_model_module_version": "1.5.0",
      "_model_name": "DescriptionStyleModel",
      "_view_count": null,
      "_view_module": "@jupyter-widgets/base",
      "_view_module_version": "1.2.0",
      "_view_name": "StyleView",
      "description_width": ""
     }
    },
    "eb6126b5dd1d41e088105708005372bf": {
     "model_module": "@jupyter-widgets/controls",
     "model_module_version": "1.5.0",
     "model_name": "DescriptionStyleModel",
     "state": {
      "_model_module": "@jupyter-widgets/controls",
      "_model_module_version": "1.5.0",
      "_model_name": "DescriptionStyleModel",
      "_view_count": null,
      "_view_module": "@jupyter-widgets/base",
      "_view_module_version": "1.2.0",
      "_view_name": "StyleView",
      "description_width": ""
     }
    },
    "f14813d9c5294c50986f85b2012bfbb1": {
     "model_module": "@jupyter-widgets/controls",
     "model_module_version": "1.5.0",
     "model_name": "DescriptionStyleModel",
     "state": {
      "_model_module": "@jupyter-widgets/controls",
      "_model_module_version": "1.5.0",
      "_model_name": "DescriptionStyleModel",
      "_view_count": null,
      "_view_module": "@jupyter-widgets/base",
      "_view_module_version": "1.2.0",
      "_view_name": "StyleView",
      "description_width": ""
     }
    },
    "f26c7552179842efaf013c9388b053e2": {
     "model_module": "@jupyter-widgets/controls",
     "model_module_version": "1.5.0",
     "model_name": "DescriptionStyleModel",
     "state": {
      "_model_module": "@jupyter-widgets/controls",
      "_model_module_version": "1.5.0",
      "_model_name": "DescriptionStyleModel",
      "_view_count": null,
      "_view_module": "@jupyter-widgets/base",
      "_view_module_version": "1.2.0",
      "_view_name": "StyleView",
      "description_width": ""
     }
    },
    "f5a8ac55363c4bd9bdabdb93f8e5addd": {
     "model_module": "@jupyter-widgets/base",
     "model_module_version": "1.2.0",
     "model_name": "LayoutModel",
     "state": {
      "_model_module": "@jupyter-widgets/base",
      "_model_module_version": "1.2.0",
      "_model_name": "LayoutModel",
      "_view_count": null,
      "_view_module": "@jupyter-widgets/base",
      "_view_module_version": "1.2.0",
      "_view_name": "LayoutView",
      "align_content": null,
      "align_items": null,
      "align_self": null,
      "border": null,
      "bottom": null,
      "display": null,
      "flex": null,
      "flex_flow": null,
      "grid_area": null,
      "grid_auto_columns": null,
      "grid_auto_flow": null,
      "grid_auto_rows": null,
      "grid_column": null,
      "grid_gap": null,
      "grid_row": null,
      "grid_template_areas": null,
      "grid_template_columns": null,
      "grid_template_rows": null,
      "height": null,
      "justify_content": null,
      "justify_items": null,
      "left": null,
      "margin": null,
      "max_height": null,
      "max_width": null,
      "min_height": null,
      "min_width": null,
      "object_fit": null,
      "object_position": null,
      "order": null,
      "overflow": null,
      "overflow_x": null,
      "overflow_y": null,
      "padding": null,
      "right": null,
      "top": null,
      "visibility": null,
      "width": null
     }
    },
    "f6c8b0f7334d45608f657ed07e23c9f1": {
     "model_module": "@jupyter-widgets/controls",
     "model_module_version": "1.5.0",
     "model_name": "HTMLModel",
     "state": {
      "_dom_classes": [],
      "_model_module": "@jupyter-widgets/controls",
      "_model_module_version": "1.5.0",
      "_model_name": "HTMLModel",
      "_view_count": null,
      "_view_module": "@jupyter-widgets/controls",
      "_view_module_version": "1.5.0",
      "_view_name": "HTMLView",
      "description": "",
      "description_tooltip": null,
      "layout": "IPY_MODEL_cd9460f0566047c9a02a9cb1a0c8a9fb",
      "placeholder": "​",
      "style": "IPY_MODEL_b09ea356adf04eb9a573118d81fb5838",
      "value": " 816/816 [00:00&lt;00:00, 59.1kB/s]"
     }
    },
    "f8e503222ac4462086f751cde4b92e20": {
     "model_module": "@jupyter-widgets/base",
     "model_module_version": "1.2.0",
     "model_name": "LayoutModel",
     "state": {
      "_model_module": "@jupyter-widgets/base",
      "_model_module_version": "1.2.0",
      "_model_name": "LayoutModel",
      "_view_count": null,
      "_view_module": "@jupyter-widgets/base",
      "_view_module_version": "1.2.0",
      "_view_name": "LayoutView",
      "align_content": null,
      "align_items": null,
      "align_self": null,
      "border": null,
      "bottom": null,
      "display": null,
      "flex": null,
      "flex_flow": null,
      "grid_area": null,
      "grid_auto_columns": null,
      "grid_auto_flow": null,
      "grid_auto_rows": null,
      "grid_column": null,
      "grid_gap": null,
      "grid_row": null,
      "grid_template_areas": null,
      "grid_template_columns": null,
      "grid_template_rows": null,
      "height": null,
      "justify_content": null,
      "justify_items": null,
      "left": null,
      "margin": null,
      "max_height": null,
      "max_width": null,
      "min_height": null,
      "min_width": null,
      "object_fit": null,
      "object_position": null,
      "order": null,
      "overflow": null,
      "overflow_x": null,
      "overflow_y": null,
      "padding": null,
      "right": null,
      "top": null,
      "visibility": null,
      "width": null
     }
    },
    "fae3c917ef3b4ea88e6080452952ab63": {
     "model_module": "@jupyter-widgets/controls",
     "model_module_version": "1.5.0",
     "model_name": "HTMLModel",
     "state": {
      "_dom_classes": [],
      "_model_module": "@jupyter-widgets/controls",
      "_model_module_version": "1.5.0",
      "_model_name": "HTMLModel",
      "_view_count": null,
      "_view_module": "@jupyter-widgets/controls",
      "_view_module_version": "1.5.0",
      "_view_name": "HTMLView",
      "description": "",
      "description_tooltip": null,
      "layout": "IPY_MODEL_36f7e887803c42019e10ab15a5b220d3",
      "placeholder": "​",
      "style": "IPY_MODEL_f14813d9c5294c50986f85b2012bfbb1",
      "value": " 119/119 [00:00&lt;00:00, 3.87kB/s]"
     }
    }
   }
  }
 },
 "nbformat": 4,
 "nbformat_minor": 4
}
